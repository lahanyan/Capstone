{
 "cells": [
  {
   "cell_type": "code",
   "execution_count": 1,
   "id": "520b012e",
   "metadata": {},
   "outputs": [
    {
     "name": "stdout",
     "output_type": "stream",
     "text": [
      "time: 198 µs (started: 2022-05-09 18:26:36 +04:00)\n"
     ]
    }
   ],
   "source": [
    "import numpy as np\n",
    "import pandas as pd\n",
    "import sklearn\n",
    "\n",
    "\n",
    "\n",
    "from sklearn.model_selection import train_test_split\n",
    "from matplotlib import pyplot\n",
    "\n",
    "import lightgbm as lgb\n",
    "from xgboost import XGBClassifier\n",
    "\n",
    "from sklearn.linear_model import LogisticRegression\n",
    "from sklearn import metrics\n",
    "\n",
    "import statsmodels.api as sm\n",
    "\n",
    "from sklearn.metrics import roc_auc_score\n",
    "from sklearn.metrics import roc_curve\n",
    "\n",
    "from sklearn.preprocessing import StandardScaler\n",
    "\n",
    "%load_ext autotime\n",
    "\n",
    "import warnings\n",
    "warnings.filterwarnings('ignore')"
   ]
  },
  {
   "cell_type": "code",
   "execution_count": 2,
   "id": "fcf443b3",
   "metadata": {},
   "outputs": [
    {
     "name": "stdout",
     "output_type": "stream",
     "text": [
      "time: 2.69 s (started: 2022-05-09 18:26:36 +04:00)\n"
     ]
    }
   ],
   "source": [
    "# Train/Test data (missing values replaced by 0s)\n",
    "\n",
    "filepath = \"../Data/TrainData0.csv\"\n",
    "\n",
    "train_data_0 = pd.read_csv(filepath)\n",
    "\n",
    "filepath = \"../Data/TestData0.csv\"\n",
    "\n",
    "test_data_0 = pd.read_csv(filepath)"
   ]
  },
  {
   "cell_type": "code",
   "execution_count": 3,
   "id": "c3cdfc4e",
   "metadata": {},
   "outputs": [
    {
     "name": "stdout",
     "output_type": "stream",
     "text": [
      "time: 2.83 s (started: 2022-05-09 18:26:39 +04:00)\n"
     ]
    }
   ],
   "source": [
    "# Train/Test data (missing values replaced by mean/median)\n",
    "\n",
    "filepath = \"../Data/TrainDataMean.csv\"\n",
    "\n",
    "train_data_mean = pd.read_csv(filepath)\n",
    "\n",
    "filepath = \"../Data/TestDataMean.csv\"\n",
    "\n",
    "test_data_mean = pd.read_csv(filepath)"
   ]
  },
  {
   "cell_type": "code",
   "execution_count": 4,
   "id": "6d9f7872",
   "metadata": {},
   "outputs": [
    {
     "name": "stdout",
     "output_type": "stream",
     "text": [
      "time: 2.65 s (started: 2022-05-09 18:26:42 +04:00)\n"
     ]
    }
   ],
   "source": [
    "# Train/Test data (missing values replaced by MissForest)\n",
    "\n",
    "filepath = \"../Data/TrainDataMf.csv\"\n",
    "\n",
    "train_data_mf = pd.read_csv(filepath)\n",
    "\n",
    "filepath = \"../Data/TestDataMf.csv\"\n",
    "\n",
    "test_data_mf = pd.read_csv(filepath)"
   ]
  },
  {
   "cell_type": "code",
   "execution_count": 5,
   "id": "2dcd05c4",
   "metadata": {},
   "outputs": [
    {
     "name": "stdout",
     "output_type": "stream",
     "text": [
      "time: 207 µs (started: 2022-05-09 18:26:45 +04:00)\n"
     ]
    }
   ],
   "source": [
    "# In this dictionary the scores of each model will be saved, then it will be converted to dataframe\n",
    "\n",
    "aucs = {'models':['Lightgbm', 'Xgboost', 'Logistic Regression'], 'Fill_0':[], 'Fill_mean':[], 'Fill_mf':[]}"
   ]
  },
  {
   "cell_type": "markdown",
   "id": "9214bd6f",
   "metadata": {},
   "source": [
    "# Fill with 0 (Missing values replaced by 0)\n"
   ]
  },
  {
   "cell_type": "code",
   "execution_count": 6,
   "id": "f6bf491f",
   "metadata": {},
   "outputs": [
    {
     "name": "stdout",
     "output_type": "stream",
     "text": [
      "time: 158 ms (started: 2022-05-09 18:26:45 +04:00)\n"
     ]
    }
   ],
   "source": [
    "# Dropping \"Lead Flag\" and \"ZIPCode\" to run models on the train and test datasets.\n",
    "\n",
    "x_train_0 = train_data_0.drop(['Lead Flag', 'ZIPCode'], axis=1)\n",
    "y_train_0 = train_data_0['Lead Flag']\n",
    "\n",
    "x_test_0 = test_data_0.drop(['Lead Flag', 'ZIPCode'], axis=1)\n",
    "y_test_0 = test_data_0['Lead Flag']"
   ]
  },
  {
   "cell_type": "code",
   "execution_count": 7,
   "id": "08dd14ac",
   "metadata": {
    "scrolled": true
   },
   "outputs": [
    {
     "data": {
      "text/plain": [
       "LGBMClassifier(learning_rate=0.2, max_depth=2, random_state=42)"
      ]
     },
     "execution_count": 7,
     "metadata": {},
     "output_type": "execute_result"
    },
    {
     "name": "stdout",
     "output_type": "stream",
     "text": [
      "time: 2.21 s (started: 2022-05-09 18:26:45 +04:00)\n"
     ]
    }
   ],
   "source": [
    "# LightGBM on the data.\n",
    "\n",
    "model_0_lgbm = lgb.LGBMClassifier(learning_rate=0.2, max_depth=2, random_state=42)\n",
    "model_0_lgbm.fit(x_train_0, y_train_0)"
   ]
  },
  {
   "cell_type": "code",
   "execution_count": 8,
   "id": "54635feb",
   "metadata": {},
   "outputs": [
    {
     "name": "stdout",
     "output_type": "stream",
     "text": [
      "ROC_AUC Train: 0.7296151237501732\n",
      "ROC_AUC Test: 0.7153624987059289\n",
      "time: 1.04 s (started: 2022-05-09 18:26:47 +04:00)\n"
     ]
    }
   ],
   "source": [
    "# Getting test and train scores for LightGBM, adding test score to the comparison dictionary.\n",
    "\n",
    "Y0_lgbm_0=model_0_lgbm.predict_proba(x_train_0)[:,1]\n",
    "Y1_lgbm_0=model_0_lgbm.predict_proba(x_test_0)[:,1]\n",
    "\n",
    "print(\"ROC_AUC Train:\", roc_auc_score (y_train_0, Y0_lgbm_0))\n",
    "print (\"ROC_AUC Test:\", roc_auc_score(y_test_0, Y1_lgbm_0))\n",
    "\n",
    "aucs['Fill_0'].append(roc_auc_score(y_test_0, Y1_lgbm_0))"
   ]
  },
  {
   "cell_type": "code",
   "execution_count": 9,
   "id": "2f9286f0",
   "metadata": {},
   "outputs": [
    {
     "name": "stdout",
     "output_type": "stream",
     "text": [
      "[18:26:49] WARNING: /opt/concourse/worker/volumes/live/7a2b9f41-3287-451b-6691-43e9a6c0910f/volume/xgboost-split_1619728204606/work/src/learner.cc:1061: Starting in XGBoost 1.3.0, the default evaluation metric used with the objective 'binary:logistic' was changed from 'error' to 'logloss'. Explicitly set eval_metric if you'd like to restore the old behavior.\n"
     ]
    },
    {
     "data": {
      "text/plain": [
       "XGBClassifier(base_score=0.5, booster='gbtree', colsample_bylevel=1,\n",
       "              colsample_bynode=1, colsample_bytree=1, gamma=0, gpu_id=-1,\n",
       "              importance_type='gain', interaction_constraints='',\n",
       "              learning_rate=0.5, max_delta_step=0, max_depth=1,\n",
       "              min_child_weight=1, missing=nan, monotone_constraints='()',\n",
       "              n_estimators=100, n_jobs=8, num_parallel_tree=1, random_state=42,\n",
       "              reg_alpha=0, reg_lambda=1, scale_pos_weight=1, subsample=1,\n",
       "              tree_method='exact', validate_parameters=1, verbosity=None)"
      ]
     },
     "execution_count": 9,
     "metadata": {},
     "output_type": "execute_result"
    },
    {
     "name": "stdout",
     "output_type": "stream",
     "text": [
      "time: 8.21 s (started: 2022-05-09 18:26:48 +04:00)\n"
     ]
    }
   ],
   "source": [
    "# XGBoost on the data.\n",
    "\n",
    "model_0_xgb = XGBClassifier(learning_rate=0.5, max_depth=1, random_state=42)\n",
    "model_0_xgb.fit(x_train_0, y_train_0) "
   ]
  },
  {
   "cell_type": "code",
   "execution_count": 10,
   "id": "c9e78091",
   "metadata": {},
   "outputs": [
    {
     "name": "stdout",
     "output_type": "stream",
     "text": [
      "ROC_AUC Train: 0.7162663477227014\n",
      "ROC_AUC Test: 0.7140309154950273\n",
      "time: 717 ms (started: 2022-05-09 18:26:56 +04:00)\n"
     ]
    }
   ],
   "source": [
    "# Getting test and train scores for XGBoost, adding test score to the comparison dictionary.\n",
    "\n",
    "Y0_xgb_0=model_0_xgb.predict_proba(x_train_0)[:,1]\n",
    "Y1_xgb_0=model_0_xgb.predict_proba(x_test_0)[:,1]\n",
    "\n",
    "print(\"ROC_AUC Train:\", roc_auc_score (y_train_0, Y0_xgb_0))\n",
    "print (\"ROC_AUC Test:\", roc_auc_score(y_test_0, Y1_xgb_0))\n",
    "\n",
    "aucs['Fill_0'].append(roc_auc_score(y_test_0, Y1_xgb_0))"
   ]
  },
  {
   "cell_type": "code",
   "execution_count": 11,
   "id": "03d44a6b",
   "metadata": {
    "scrolled": true
   },
   "outputs": [
    {
     "name": "stdout",
     "output_type": "stream",
     "text": [
      "Optimization terminated successfully.\n",
      "         Current function value: 0.051498\n",
      "         Iterations 9\n",
      "                           Logit Regression Results                           \n",
      "==============================================================================\n",
      "Dep. Variable:              Lead Flag   No. Observations:               638934\n",
      "Model:                          Logit   Df Residuals:                   638884\n",
      "Method:                           MLE   Df Model:                           49\n",
      "Date:                Mon, 09 May 2022   Pseudo R-squ.:                 0.04847\n",
      "Time:                        18:27:37   Log-Likelihood:                -32904.\n",
      "converged:                       True   LL-Null:                       -34580.\n",
      "Covariance Type:            nonrobust   LLR p-value:                     0.000\n",
      "==================================================================================================================\n",
      "                                                     coef    std err          z      P>|z|      [0.025      0.975]\n",
      "------------------------------------------------------------------------------------------------------------------\n",
      "NumberOfOpenBankcardTrades                         0.0661      0.007      9.601      0.000       0.053       0.080\n",
      "AnnualPercentageRate                               0.0376      0.010      3.722      0.000       0.018       0.057\n",
      "TimesTargeted                                     -0.2320      0.010    -22.279      0.000      -0.252      -0.212\n",
      "Balance                                         6.695e-05    9.8e-06      6.834      0.000    4.78e-05    8.62e-05\n",
      "Age                                                0.0038      0.001      3.318      0.001       0.002       0.006\n",
      "MonthsOnFile                                       0.0005      0.000      2.857      0.004       0.000       0.001\n",
      "OfferRate                                         -0.0814      0.009     -9.537      0.000      -0.098      -0.065\n",
      "SumBalanceAuto                                 -2.597e-06   1.89e-06     -1.371      0.170   -6.31e-06    1.12e-06\n",
      "MonthsSinceOpen                                   -0.0178      0.109     -0.164      0.870      -0.231       0.196\n",
      "Payment                                           -0.0023      0.001     -3.922      0.000      -0.003      -0.001\n",
      "AggMonthlyPaymentOpenTrades                    -4.136e-05   2.72e-05     -1.523      0.128   -9.46e-05    1.19e-05\n",
      "NumOfTradesOpenedWithin24MosExStudentLoan          0.0153      0.005      2.999      0.003       0.005       0.025\n",
      "PaymentChange                                     -0.0021      0.001     -3.673      0.000      -0.003      -0.001\n",
      "RemainingMonths                                   -0.0175      0.109     -0.160      0.873      -0.231       0.196\n",
      "SumPaymentAuto                                    -0.0001   8.28e-05     -1.656      0.098      -0.000    2.52e-05\n",
      "MostRecentOpenedinMonthsAuto                      -0.0113      0.002     -5.594      0.000      -0.015      -0.007\n",
      "RateChange                                        -0.0033      0.010     -0.336      0.737      -0.023       0.016\n",
      "MostRecentClosedinMonthsAuto                      -0.0004      0.001     -0.759      0.448      -0.001       0.001\n",
      "AggregateBalanceOpenRevolvingNonMortgage       -2.198e-05   3.38e-06     -6.504      0.000   -2.86e-05   -1.54e-05\n",
      "HighestRevolvingCreditAmount                   -6.169e-07   1.73e-06     -0.357      0.721   -4.01e-06    2.77e-06\n",
      "AgeOfMostRecentFinanceTrade                       -0.0013      0.000     -2.971      0.003      -0.002      -0.000\n",
      "NumberOfBankruptciesDischarged                     0.3946      0.037     10.704      0.000       0.322       0.467\n",
      "FICOAutoScore                                     -0.0058      0.000    -14.452      0.000      -0.007      -0.005\n",
      "HighestBankcardSingleBalToCreditRatio              0.0033      0.000      9.054      0.000       0.003       0.004\n",
      "FICO8AutoScore                                    -0.0006      0.000     -1.978      0.048      -0.001   -5.74e-06\n",
      "NumberOfNonAutoLoanAndLease12Months                0.0362      0.009      4.038      0.000       0.019       0.054\n",
      "NumberOfInquiries6Months                           0.0413      0.012      3.435      0.001       0.018       0.065\n",
      "MortgageSumHighCredit                           1.622e-07   4.34e-08      3.737      0.000    7.71e-08    2.47e-07\n",
      "NumOfChargeOffs                                    0.0700      0.008      8.353      0.000       0.054       0.086\n",
      "TermInMonths                                       0.0072      0.109      0.066      0.947      -0.206       0.221\n",
      "AgeOfOldestBankcardTrade                          -0.0014      0.000     -3.323      0.001      -0.002      -0.001\n",
      "MailType_Standard                                 -0.1429      0.028     -5.180      0.000      -0.197      -0.089\n",
      "PErsonalLoanSumBalance                           2.34e-06   3.79e-06      0.617      0.537   -5.09e-06    9.77e-06\n",
      "3MonthFICOAutoDelta                                0.0005      0.001      0.701      0.483      -0.001       0.002\n",
      "AgeOfOLdestRevolvingTrade                          0.0020      0.001      2.438      0.015       0.000       0.004\n",
      "Monthlypaymentamountofhighestmortgagetrade_1MO   -2.5e-05   5.18e-05     -0.483      0.629      -0.000    7.65e-05\n",
      "MonthsSinceMostRecentMortgageOpened                0.0005      0.000      1.393      0.164      -0.000       0.001\n",
      "NumberOfBankruptciesDismissed                      0.1743      0.069      2.513      0.012       0.038       0.310\n",
      "OfferPayment                                      -0.0004      0.000     -0.975      0.330      -0.001       0.000\n",
      "AgeOfOldestOpenAndCurrentRevolvingTrade           -0.0022      0.001     -2.749      0.006      -0.004      -0.001\n",
      "OfferTerm                                          0.0020      0.004      0.475      0.635      -0.006       0.010\n",
      "AggBalToCreditRatioForOpenRetailTrades          3.749e-05      0.000      0.077      0.939      -0.001       0.001\n",
      "NumberOfTradelines                                -0.0356      0.013     -2.695      0.007      -0.061      -0.010\n",
      "AllLoansPaidAsAgreed                               0.0183      0.034      0.532      0.595      -0.049       0.086\n",
      "PErsonalLoanSumHighCredit                      -1.384e-06   1.71e-06     -0.811      0.417   -4.73e-06    1.96e-06\n",
      "PErsonalLoanSumPayment                          1.392e-06   3.53e-06      0.394      0.693   -5.53e-06    8.31e-06\n",
      "AutoTradeline                                     -0.1820      0.042     -4.349      0.000      -0.264      -0.100\n",
      "KeycodedPresenceOfAFinanceTradeOrInquiry           0.1214      0.034      3.539      0.000       0.054       0.189\n",
      "TermChange                                        -0.0036      0.007     -0.493      0.622      -0.018       0.011\n",
      "NumOfMortgageTrades                                0.0048      0.016      0.300      0.764      -0.026       0.036\n",
      "==================================================================================================================\n",
      "time: 39.6 s (started: 2022-05-09 18:26:57 +04:00)\n"
     ]
    }
   ],
   "source": [
    "# Running Logisting Regression, printing summary for visual evaluation of the non significant features\n",
    "\n",
    "logreg = LogisticRegression(C=1,penalty='l1',solver=\"liblinear\", random_state=42)\n",
    "\n",
    "logreg.fit(x_train_0,y_train_0)\n",
    "\n",
    "est = sm.Logit(y_train_0, x_train_0.astype(float)).fit() \n",
    "\n",
    "print(est.summary())"
   ]
  },
  {
   "cell_type": "code",
   "execution_count": 12,
   "id": "16bd2270",
   "metadata": {},
   "outputs": [
    {
     "name": "stdout",
     "output_type": "stream",
     "text": [
      "time: 7.69 ms (started: 2022-05-09 18:27:37 +04:00)\n"
     ]
    }
   ],
   "source": [
    "# Getting only the significant features, for filtering out non significants from the dataset.\n",
    "\n",
    "significant_features_0 = {'feature':[], 'pval':[]}\n",
    "\n",
    "for attributeIndex in range (0, x_train_0.shape[1]):\n",
    "    if(est.pvalues[attributeIndex] <= 0.05):\n",
    "        significant_features_0['pval'].append(est.pvalues[attributeIndex])\n",
    "        significant_features_0['feature'].append(x_train_0.columns[attributeIndex])\n",
    "        \n",
    "significant_features_0 = pd.DataFrame.from_dict(significant_features_0)"
   ]
  },
  {
   "cell_type": "code",
   "execution_count": 13,
   "id": "491cf0ea",
   "metadata": {
    "scrolled": true
   },
   "outputs": [
    {
     "name": "stdout",
     "output_type": "stream",
     "text": [
      "time: 46.4 ms (started: 2022-05-09 18:27:37 +04:00)\n"
     ]
    }
   ],
   "source": [
    "# Leaving only significant features both in train and test datasets.\n",
    "\n",
    "x_train_0_sign = x_train_0[significant_features_0['feature']]\n",
    "x_test_0_sign = x_test_0[significant_features_0['feature']]"
   ]
  },
  {
   "cell_type": "code",
   "execution_count": 14,
   "id": "9f8161d9",
   "metadata": {},
   "outputs": [
    {
     "name": "stdout",
     "output_type": "stream",
     "text": [
      "Optimization terminated successfully.\n",
      "         Current function value: 0.051548\n",
      "         Iterations 9\n",
      "                           Logit Regression Results                           \n",
      "==============================================================================\n",
      "Dep. Variable:              Lead Flag   No. Observations:               638934\n",
      "Model:                          Logit   Df Residuals:                   638905\n",
      "Method:                           MLE   Df Model:                           28\n",
      "Date:                Mon, 09 May 2022   Pseudo R-squ.:                 0.04753\n",
      "Time:                        18:28:00   Log-Likelihood:                -32936.\n",
      "converged:                       True   LL-Null:                       -34580.\n",
      "Covariance Type:            nonrobust   LLR p-value:                     0.000\n",
      "=============================================================================================================\n",
      "                                                coef    std err          z      P>|z|      [0.025      0.975]\n",
      "-------------------------------------------------------------------------------------------------------------\n",
      "NumberOfOpenBankcardTrades                    0.0669      0.007      9.829      0.000       0.054       0.080\n",
      "AnnualPercentageRate                          0.0385      0.003     13.399      0.000       0.033       0.044\n",
      "TimesTargeted                                -0.2339      0.010    -22.875      0.000      -0.254      -0.214\n",
      "Balance                                    5.811e-05   4.92e-06     11.806      0.000    4.85e-05    6.78e-05\n",
      "Age                                           0.0037      0.001      3.344      0.001       0.002       0.006\n",
      "MonthsOnFile                                  0.0006      0.000      3.192      0.001       0.000       0.001\n",
      "OfferRate                                    -0.0901      0.005    -18.851      0.000      -0.099      -0.081\n",
      "Payment                                      -0.0026      0.000     -9.384      0.000      -0.003      -0.002\n",
      "NumOfTradesOpenedWithin24MosExStudentLoan     0.0137      0.005      2.749      0.006       0.004       0.023\n",
      "PaymentChange                                -0.0025      0.000     -8.683      0.000      -0.003      -0.002\n",
      "MostRecentOpenedinMonthsAuto                 -0.0131      0.002     -8.331      0.000      -0.016      -0.010\n",
      "AggregateBalanceOpenRevolvingNonMortgage  -2.534e-05   3.11e-06     -8.153      0.000   -3.14e-05   -1.92e-05\n",
      "AgeOfMostRecentFinanceTrade                  -0.0013      0.000     -2.975      0.003      -0.002      -0.000\n",
      "NumberOfBankruptciesDischarged                0.4005      0.036     11.004      0.000       0.329       0.472\n",
      "FICOAutoScore                                -0.0061      0.000    -18.795      0.000      -0.007      -0.005\n",
      "HighestBankcardSingleBalToCreditRatio         0.0032      0.000      8.951      0.000       0.002       0.004\n",
      "FICO8AutoScore                               -0.0008      0.000     -2.757      0.006      -0.001      -0.000\n",
      "NumberOfNonAutoLoanAndLease12Months           0.0361      0.009      4.077      0.000       0.019       0.054\n",
      "NumberOfInquiries6Months                      0.0347      0.012      2.915      0.004       0.011       0.058\n",
      "MortgageSumHighCredit                      1.271e-07   4.55e-08      2.790      0.005    3.78e-08    2.16e-07\n",
      "NumOfChargeOffs                               0.0690      0.008      8.351      0.000       0.053       0.085\n",
      "AgeOfOldestBankcardTrade                     -0.0014      0.000     -3.389      0.001      -0.002      -0.001\n",
      "MailType_Standard                            -0.1413      0.027     -5.169      0.000      -0.195      -0.088\n",
      "AgeOfOLdestRevolvingTrade                     0.0018      0.001      2.121      0.034       0.000       0.003\n",
      "NumberOfBankruptciesDismissed                 0.1747      0.069      2.525      0.012       0.039       0.310\n",
      "AgeOfOldestOpenAndCurrentRevolvingTrade      -0.0019      0.001     -2.403      0.016      -0.003      -0.000\n",
      "NumberOfTradelines                           -0.0699      0.012     -5.895      0.000      -0.093      -0.047\n",
      "AutoTradeline                                -0.3002      0.038     -7.849      0.000      -0.375      -0.225\n",
      "KeycodedPresenceOfAFinanceTradeOrInquiry      0.1202      0.033      3.652      0.000       0.056       0.185\n",
      "=============================================================================================================\n",
      "time: 23.6 s (started: 2022-05-09 18:27:37 +04:00)\n"
     ]
    }
   ],
   "source": [
    "# Running Logistic Regression again to get the scores for train and test.\n",
    "\n",
    "logreg=LogisticRegression(C=1,penalty='l1',solver=\"liblinear\", random_state=42)\n",
    "\n",
    "logreg.fit(x_train_0_sign,y_train_0)\n",
    "\n",
    "est = sm.Logit(y_train_0, x_train_0_sign.astype(float)).fit() \n",
    "\n",
    "print(est.summary())"
   ]
  },
  {
   "cell_type": "code",
   "execution_count": 15,
   "id": "8a720c76",
   "metadata": {},
   "outputs": [
    {
     "name": "stdout",
     "output_type": "stream",
     "text": [
      "ROC_AUC Train: 0.7028018586837483\n",
      "ROC_AUC Test: 0.7038751559644375\n",
      "time: 349 ms (started: 2022-05-09 18:28:00 +04:00)\n"
     ]
    }
   ],
   "source": [
    "# Getting test and train scores for Logistic Regression, adding test score to the comparison dictionary.\n",
    "\n",
    "Y0_logreg_0=logreg.predict_proba(x_train_0_sign)[:,1]\n",
    "Y1_logreg_0=logreg.predict_proba(x_test_0_sign)[:,1]\n",
    "\n",
    "print(\"ROC_AUC Train:\", roc_auc_score (y_train_0, Y0_logreg_0))\n",
    "print (\"ROC_AUC Test:\", roc_auc_score(y_test_0, Y1_logreg_0))\n",
    "\n",
    "aucs['Fill_0'].append(roc_auc_score(y_test_0, Y1_logreg_0))"
   ]
  },
  {
   "cell_type": "markdown",
   "id": "0323971d",
   "metadata": {},
   "source": [
    "# Fill with mean (Missing values replaced by mean/median)"
   ]
  },
  {
   "cell_type": "code",
   "execution_count": 16,
   "id": "2810a4e4",
   "metadata": {},
   "outputs": [
    {
     "name": "stdout",
     "output_type": "stream",
     "text": [
      "time: 164 ms (started: 2022-05-09 18:28:01 +04:00)\n"
     ]
    }
   ],
   "source": [
    "# Dropping \"Lead Flag\" and \"ZIPCode\" to run models on the train and test datasets.\n",
    "\n",
    "x_train_mean = train_data_mean.drop(['Lead Flag', 'ZIPCode'], axis=1)\n",
    "y_train_mean = train_data_mean['Lead Flag']\n",
    "\n",
    "x_test_mean = test_data_mean.drop(['Lead Flag', 'ZIPCode'], axis=1)\n",
    "y_test_mean = test_data_mean['Lead Flag']"
   ]
  },
  {
   "cell_type": "code",
   "execution_count": 17,
   "id": "7feb7ec9",
   "metadata": {},
   "outputs": [
    {
     "data": {
      "text/plain": [
       "LGBMClassifier(learning_rate=0.6, max_depth=1, random_state=42)"
      ]
     },
     "execution_count": 17,
     "metadata": {},
     "output_type": "execute_result"
    },
    {
     "name": "stdout",
     "output_type": "stream",
     "text": [
      "time: 2.43 s (started: 2022-05-09 18:28:01 +04:00)\n"
     ]
    }
   ],
   "source": [
    "# LightGBM on the data.\n",
    "\n",
    "model_mean = lgb.LGBMClassifier(learning_rate=0.6,max_depth=1,random_state=42)\n",
    "model_mean.fit(x_train_mean,y_train_mean,verbose=20)"
   ]
  },
  {
   "cell_type": "code",
   "execution_count": 18,
   "id": "33dbd7d5",
   "metadata": {},
   "outputs": [
    {
     "name": "stdout",
     "output_type": "stream",
     "text": [
      "ROC_AUC Train: 0.7175363651153825\n",
      "ROC_AUC Test: 0.7137379508540128\n",
      "time: 923 ms (started: 2022-05-09 18:28:03 +04:00)\n"
     ]
    }
   ],
   "source": [
    "# Getting test and train scores for LightGBM, adding test score to the comparison dictionary.\n",
    "\n",
    "Y0_lgbm_mean=model_mean.predict_proba(x_train_mean)[:,1]\n",
    "Y1_lgbm_mean=model_mean.predict_proba(x_test_mean)[:,1]\n",
    "\n",
    "print(\"ROC_AUC Train:\", roc_auc_score (y_train_mean, Y0_lgbm_mean))\n",
    "print (\"ROC_AUC Test:\", roc_auc_score(y_test_mean, Y1_lgbm_mean))\n",
    "\n",
    "aucs['Fill_mean'].append(roc_auc_score(y_test_mean, Y1_lgbm_mean))"
   ]
  },
  {
   "cell_type": "code",
   "execution_count": 19,
   "id": "992f12b3",
   "metadata": {},
   "outputs": [
    {
     "name": "stdout",
     "output_type": "stream",
     "text": [
      "[18:28:05] WARNING: /opt/concourse/worker/volumes/live/7a2b9f41-3287-451b-6691-43e9a6c0910f/volume/xgboost-split_1619728204606/work/src/learner.cc:1061: Starting in XGBoost 1.3.0, the default evaluation metric used with the objective 'binary:logistic' was changed from 'error' to 'logloss'. Explicitly set eval_metric if you'd like to restore the old behavior.\n"
     ]
    },
    {
     "data": {
      "text/plain": [
       "XGBClassifier(base_score=0.5, booster='gbtree', colsample_bylevel=1,\n",
       "              colsample_bynode=1, colsample_bytree=1, gamma=0, gpu_id=-1,\n",
       "              importance_type='gain', interaction_constraints='',\n",
       "              learning_rate=0.7, max_delta_step=0, max_depth=1,\n",
       "              min_child_weight=1, missing=nan, monotone_constraints='()',\n",
       "              n_estimators=100, n_jobs=8, num_parallel_tree=1, random_state=42,\n",
       "              reg_alpha=0, reg_lambda=1, scale_pos_weight=1, subsample=1,\n",
       "              tree_method='exact', validate_parameters=1, verbosity=None)"
      ]
     },
     "execution_count": 19,
     "metadata": {},
     "output_type": "execute_result"
    },
    {
     "name": "stdout",
     "output_type": "stream",
     "text": [
      "time: 8.43 s (started: 2022-05-09 18:28:04 +04:00)\n"
     ]
    }
   ],
   "source": [
    "# XGBoost on the data.\n",
    "\n",
    "model_mean_xgb = XGBClassifier(learning_rate=0.7,max_depth=1,random_state=42)\n",
    "model_mean_xgb.fit(x_train_mean,y_train_mean,verbose=20) #0.7 8"
   ]
  },
  {
   "cell_type": "code",
   "execution_count": 20,
   "id": "8871d463",
   "metadata": {},
   "outputs": [
    {
     "name": "stdout",
     "output_type": "stream",
     "text": [
      "ROC_AUC Train: 0.7187451260075501\n",
      "ROC_AUC Test: 0.7139709683057569\n",
      "time: 662 ms (started: 2022-05-09 18:28:13 +04:00)\n"
     ]
    }
   ],
   "source": [
    "# Getting test and train scores for XGBoost, adding test score to the comparison dictionary.\n",
    "\n",
    "Y0_xgb_mean=model_mean_xgb.predict_proba(x_train_mean)[:,1]\n",
    "Y1_xgb_mean=model_mean_xgb.predict_proba(x_test_mean)[:,1]\n",
    "\n",
    "print(\"ROC_AUC Train:\", roc_auc_score (y_train_mean, Y0_xgb_mean))\n",
    "print (\"ROC_AUC Test:\", roc_auc_score(y_test_mean, Y1_xgb_mean))\n",
    "\n",
    "aucs['Fill_mean'].append(roc_auc_score(y_test_mean, Y1_xgb_mean))"
   ]
  },
  {
   "cell_type": "code",
   "execution_count": 21,
   "id": "8d383285",
   "metadata": {},
   "outputs": [
    {
     "name": "stdout",
     "output_type": "stream",
     "text": [
      "Optimization terminated successfully.\n",
      "         Current function value: 0.051499\n",
      "         Iterations 9\n",
      "                           Logit Regression Results                           \n",
      "==============================================================================\n",
      "Dep. Variable:              Lead Flag   No. Observations:               638934\n",
      "Model:                          Logit   Df Residuals:                   638884\n",
      "Method:                           MLE   Df Model:                           49\n",
      "Date:                Mon, 09 May 2022   Pseudo R-squ.:                 0.04844\n",
      "Time:                        18:29:16   Log-Likelihood:                -32905.\n",
      "converged:                       True   LL-Null:                       -34580.\n",
      "Covariance Type:            nonrobust   LLR p-value:                     0.000\n",
      "==================================================================================================================\n",
      "                                                     coef    std err          z      P>|z|      [0.025      0.975]\n",
      "------------------------------------------------------------------------------------------------------------------\n",
      "NumberOfOpenBankcardTrades                         0.0740      0.007     11.311      0.000       0.061       0.087\n",
      "AnnualPercentageRate                               0.0384      0.010      3.804      0.000       0.019       0.058\n",
      "TimesTargeted                                     -0.2305      0.010    -22.076      0.000      -0.251      -0.210\n",
      "Balance                                         6.455e-05   9.86e-06      6.549      0.000    4.52e-05    8.39e-05\n",
      "Age                                                0.0029      0.001      2.593      0.010       0.001       0.005\n",
      "MonthsOnFile                                       0.0005      0.000      2.909      0.004       0.000       0.001\n",
      "OfferRate                                         -0.0819      0.009     -9.556      0.000      -0.099      -0.065\n",
      "SumBalanceAuto                                  -3.32e-06   1.98e-06     -1.681      0.093   -7.19e-06    5.51e-07\n",
      "MonthsSinceOpen                                    0.0045      0.030      0.150      0.881      -0.055       0.064\n",
      "Payment                                           -0.0021      0.001     -3.634      0.000      -0.003      -0.001\n",
      "AggMonthlyPaymentOpenTrades                    -2.925e-05   2.59e-05     -1.131      0.258   -7.99e-05    2.14e-05\n",
      "NumOfTradesOpenedWithin24MosExStudentLoan          0.0214      0.005      4.237      0.000       0.012       0.031\n",
      "PaymentChange                                     -0.0020      0.001     -3.376      0.001      -0.003      -0.001\n",
      "RemainingMonths                                    0.0059      0.030      0.193      0.847      -0.054       0.066\n",
      "SumPaymentAuto                                    -0.0002   8.75e-05     -2.050      0.040      -0.000    -7.9e-06\n",
      "MostRecentOpenedinMonthsAuto                      -0.0101      0.002     -4.662      0.000      -0.014      -0.006\n",
      "RateChange                                        -0.0031      0.010     -0.311      0.756      -0.023       0.016\n",
      "MostRecentClosedinMonthsAuto                      -0.0009      0.001     -1.459      0.145      -0.002       0.000\n",
      "AggregateBalanceOpenRevolvingNonMortgage       -2.673e-05   3.26e-06     -8.196      0.000   -3.31e-05   -2.03e-05\n",
      "HighestRevolvingCreditAmount                   -2.158e-07   1.62e-06     -0.133      0.894   -3.39e-06    2.96e-06\n",
      "AgeOfMostRecentFinanceTrade                       -0.0012      0.000     -2.530      0.011      -0.002      -0.000\n",
      "NumberOfBankruptciesDischarged                     0.3994      0.037     10.867      0.000       0.327       0.471\n",
      "FICOAutoScore                                     -0.0056      0.000    -13.711      0.000      -0.006      -0.005\n",
      "HighestBankcardSingleBalToCreditRatio              0.0023      0.000      4.831      0.000       0.001       0.003\n",
      "FICO8AutoScore                                    -0.0010      0.000     -3.037      0.002      -0.002      -0.000\n",
      "NumberOfNonAutoLoanAndLease12Months                0.0345      0.009      3.840      0.000       0.017       0.052\n",
      "NumberOfInquiries6Months                           0.0386      0.012      3.206      0.001       0.015       0.062\n",
      "MortgageSumHighCredit                           1.614e-07   4.34e-08      3.717      0.000    7.63e-08    2.47e-07\n",
      "NumOfChargeOffs                                    0.0685      0.008      8.177      0.000       0.052       0.085\n",
      "TermInMonths                                      -0.0156      0.030     -0.519      0.604      -0.075       0.043\n",
      "AgeOfOldestBankcardTrade                          -0.0008      0.000     -1.980      0.048      -0.002   -7.93e-06\n",
      "MailType_Standard                                 -0.1377      0.028     -4.989      0.000      -0.192      -0.084\n",
      "PErsonalLoanSumBalance                          2.661e-06    4.2e-06      0.633      0.527   -5.57e-06    1.09e-05\n",
      "3MonthFICOAutoDelta                                0.0005      0.001      0.623      0.533      -0.001       0.002\n",
      "AgeOfOLdestRevolvingTrade                          0.0010      0.001      1.400      0.162      -0.000       0.003\n",
      "Monthlypaymentamountofhighestmortgagetrade_1MO -2.854e-05   5.07e-05     -0.563      0.573      -0.000    7.08e-05\n",
      "MonthsSinceMostRecentMortgageOpened                0.0005      0.000      1.521      0.128      -0.000       0.001\n",
      "NumberOfBankruptciesDismissed                      0.1809      0.069      2.607      0.009       0.045       0.317\n",
      "OfferPayment                                      -0.0004      0.000     -1.010      0.313      -0.001       0.000\n",
      "AgeOfOldestOpenAndCurrentRevolvingTrade           -0.0014      0.001     -1.993      0.046      -0.003   -2.33e-05\n",
      "OfferTerm                                          0.0025      0.004      0.613      0.540      -0.006       0.011\n",
      "AggBalToCreditRatioForOpenRetailTrades             0.0004      0.001      0.829      0.407      -0.001       0.001\n",
      "NumberOfTradelines                                -0.0209      0.013     -1.564      0.118      -0.047       0.005\n",
      "AllLoansPaidAsAgreed                               0.0316      0.047      0.677      0.498      -0.060       0.123\n",
      "PErsonalLoanSumHighCredit                      -1.319e-06   1.67e-06     -0.792      0.428   -4.59e-06    1.95e-06\n",
      "PErsonalLoanSumPayment                          1.059e-06    3.5e-06      0.303      0.762    -5.8e-06    7.92e-06\n",
      "AutoTradeline                                     -0.1739      0.042     -4.125      0.000      -0.257      -0.091\n",
      "KeycodedPresenceOfAFinanceTradeOrInquiry           0.0943      0.029      3.201      0.001       0.037       0.152\n",
      "TermChange                                        -0.0029      0.007     -0.401      0.688      -0.017       0.011\n",
      "NumOfMortgageTrades                                0.0025      0.016      0.161      0.872      -0.028       0.033\n",
      "==================================================================================================================\n",
      "time: 1min 3s (started: 2022-05-09 18:28:13 +04:00)\n"
     ]
    }
   ],
   "source": [
    "# Running Logisting Regression, printing summary for visual evaluation of the non significant features\n",
    "\n",
    "logreg=LogisticRegression(C=1,penalty='l1',solver=\"liblinear\", random_state=42)\n",
    "\n",
    "logreg.fit(x_train_mean,y_train_mean)\n",
    "\n",
    "est = sm.Logit(y_train_mean, x_train_mean.astype(float)).fit() \n",
    "\n",
    "print(est.summary())"
   ]
  },
  {
   "cell_type": "code",
   "execution_count": 22,
   "id": "b7d74bf2",
   "metadata": {},
   "outputs": [
    {
     "name": "stdout",
     "output_type": "stream",
     "text": [
      "time: 8.39 ms (started: 2022-05-09 18:29:16 +04:00)\n"
     ]
    }
   ],
   "source": [
    "# Getting only the significant features, for filtering out non significants from the dataset.\n",
    "\n",
    "significant_features_mean = {'feature':[], 'pval':[]}\n",
    "\n",
    "for attributeIndex in range (0, x_train_0.shape[1]):\n",
    "    if(est.pvalues[attributeIndex] <= 0.05):\n",
    "        significant_features_mean['pval'].append(est.pvalues[attributeIndex])\n",
    "        significant_features_mean['feature'].append(x_train_mean.columns[attributeIndex])\n",
    "        \n",
    "significant_features_mean = pd.DataFrame.from_dict(significant_features_mean)\n"
   ]
  },
  {
   "cell_type": "code",
   "execution_count": 23,
   "id": "67498245",
   "metadata": {},
   "outputs": [
    {
     "name": "stdout",
     "output_type": "stream",
     "text": [
      "time: 62 ms (started: 2022-05-09 18:29:16 +04:00)\n"
     ]
    }
   ],
   "source": [
    "# Leaving only significant features both in train and test datasets.\n",
    "\n",
    "x_train_mean_sign = x_train_mean[significant_features_mean['feature']]\n",
    "x_test_mean_sign = x_test_mean[significant_features_mean['feature']]"
   ]
  },
  {
   "cell_type": "code",
   "execution_count": 24,
   "id": "4de84b9b",
   "metadata": {},
   "outputs": [
    {
     "name": "stdout",
     "output_type": "stream",
     "text": [
      "Optimization terminated successfully.\n",
      "         Current function value: 0.051529\n",
      "         Iterations 9\n",
      "                           Logit Regression Results                           \n",
      "==============================================================================\n",
      "Dep. Variable:              Lead Flag   No. Observations:               638934\n",
      "Model:                          Logit   Df Residuals:                   638906\n",
      "Method:                           MLE   Df Model:                           27\n",
      "Date:                Mon, 09 May 2022   Pseudo R-squ.:                 0.04789\n",
      "Time:                        18:29:38   Log-Likelihood:                -32924.\n",
      "converged:                       True   LL-Null:                       -34580.\n",
      "Covariance Type:            nonrobust   LLR p-value:                     0.000\n",
      "=============================================================================================================\n",
      "                                                coef    std err          z      P>|z|      [0.025      0.975]\n",
      "-------------------------------------------------------------------------------------------------------------\n",
      "NumberOfOpenBankcardTrades                    0.0740      0.006     11.414      0.000       0.061       0.087\n",
      "AnnualPercentageRate                          0.0419      0.003     15.253      0.000       0.037       0.047\n",
      "TimesTargeted                                -0.2316      0.010    -22.644      0.000      -0.252      -0.212\n",
      "Balance                                    6.023e-05   4.85e-06     12.415      0.000    5.07e-05    6.97e-05\n",
      "Age                                           0.0029      0.001      2.601      0.009       0.001       0.005\n",
      "MonthsOnFile                                  0.0005      0.000      3.115      0.002       0.000       0.001\n",
      "OfferRate                                    -0.0899      0.005    -18.638      0.000      -0.099      -0.080\n",
      "Payment                                      -0.0023      0.000     -8.519      0.000      -0.003      -0.002\n",
      "NumOfTradesOpenedWithin24MosExStudentLoan     0.0200      0.005      4.005      0.000       0.010       0.030\n",
      "PaymentChange                                -0.0023      0.000     -8.092      0.000      -0.003      -0.002\n",
      "SumPaymentAuto                               -0.0004   4.82e-05     -7.446      0.000      -0.000      -0.000\n",
      "MostRecentOpenedinMonthsAuto                 -0.0128      0.002     -7.872      0.000      -0.016      -0.010\n",
      "AggregateBalanceOpenRevolvingNonMortgage  -2.845e-05   3.06e-06     -9.287      0.000   -3.45e-05   -2.24e-05\n",
      "AgeOfMostRecentFinanceTrade                  -0.0011      0.000     -2.475      0.013      -0.002      -0.000\n",
      "NumberOfBankruptciesDischarged                0.3929      0.036     10.816      0.000       0.322       0.464\n",
      "FICOAutoScore                                -0.0060      0.000    -17.966      0.000      -0.007      -0.005\n",
      "HighestBankcardSingleBalToCreditRatio         0.0021      0.000      4.656      0.000       0.001       0.003\n",
      "FICO8AutoScore                               -0.0012      0.000     -3.735      0.000      -0.002      -0.001\n",
      "NumberOfNonAutoLoanAndLease12Months           0.0344      0.009      3.864      0.000       0.017       0.052\n",
      "NumberOfInquiries6Months                      0.0357      0.012      2.988      0.003       0.012       0.059\n",
      "MortgageSumHighCredit                      1.339e-07   4.46e-08      3.001      0.003    4.65e-08    2.21e-07\n",
      "NumOfChargeOffs                               0.0644      0.008      7.813      0.000       0.048       0.081\n",
      "AgeOfOldestBankcardTrade                     -0.0007      0.000     -1.717      0.086      -0.001    9.44e-05\n",
      "MailType_Standard                            -0.1348      0.027     -4.932      0.000      -0.188      -0.081\n",
      "NumberOfBankruptciesDismissed                 0.1866      0.069      2.695      0.007       0.051       0.322\n",
      "AgeOfOldestOpenAndCurrentRevolvingTrade      -0.0005      0.000     -1.632      0.103      -0.001       0.000\n",
      "AutoTradeline                                -0.2317      0.040     -5.778      0.000      -0.310      -0.153\n",
      "KeycodedPresenceOfAFinanceTradeOrInquiry      0.0851      0.029      2.925      0.003       0.028       0.142\n",
      "=============================================================================================================\n",
      "time: 21.7 s (started: 2022-05-09 18:29:16 +04:00)\n"
     ]
    }
   ],
   "source": [
    "# Running Logistic Regression again to get the scores for train and test.\n",
    "\n",
    "logreg=LogisticRegression(C=1,penalty='l1',solver=\"liblinear\", random_state=42)\n",
    "\n",
    "logreg.fit(x_train_mean_sign,y_train_mean)\n",
    "\n",
    "est = sm.Logit(y_train_0, x_train_mean_sign.astype(float)).fit() \n",
    "\n",
    "print(est.summary())"
   ]
  },
  {
   "cell_type": "code",
   "execution_count": 25,
   "id": "4c9afb86",
   "metadata": {},
   "outputs": [
    {
     "name": "stdout",
     "output_type": "stream",
     "text": [
      "ROC_AUC Train: 0.7038575919005851\n",
      "ROC_AUC Test: 0.7062258914403243\n",
      "time: 343 ms (started: 2022-05-09 18:29:38 +04:00)\n"
     ]
    }
   ],
   "source": [
    "# Getting test and train scores for Logistic Regression, adding test score to the comparison dictionary.\n",
    "\n",
    "Y0_logreg_mean=logreg.predict_proba(x_train_mean_sign)[:,1]\n",
    "Y1_logreg_mean=logreg.predict_proba(x_test_mean_sign)[:,1]\n",
    "\n",
    "print(\"ROC_AUC Train:\", roc_auc_score (y_train_mean, Y0_logreg_mean))\n",
    "print (\"ROC_AUC Test:\", roc_auc_score(y_test_mean, Y1_logreg_mean))\n",
    "\n",
    "aucs['Fill_mean'].append(roc_auc_score(y_test_mean, Y1_logreg_mean))"
   ]
  },
  {
   "cell_type": "markdown",
   "id": "924d01aa",
   "metadata": {},
   "source": [
    "# Fill with MF (Missing values replaced by MissForest)"
   ]
  },
  {
   "cell_type": "code",
   "execution_count": 26,
   "id": "a77f2a81",
   "metadata": {},
   "outputs": [
    {
     "name": "stdout",
     "output_type": "stream",
     "text": [
      "time: 175 ms (started: 2022-05-09 18:29:38 +04:00)\n"
     ]
    }
   ],
   "source": [
    "# Dropping \"Lead Flag\" and \"ZIPCode\" to run models on the train and test datasets.\n",
    "\n",
    "x_train_mf = train_data_mf.drop(['Lead Flag', 'ZIPCode'], axis=1)\n",
    "y_train_mf = train_data_mf['Lead Flag']\n",
    "\n",
    "x_test_mf = test_data_mf.drop(['Lead Flag', 'ZIPCode'], axis=1)\n",
    "y_test_mf = test_data_mf['Lead Flag']"
   ]
  },
  {
   "cell_type": "code",
   "execution_count": 27,
   "id": "6d574397",
   "metadata": {},
   "outputs": [
    {
     "data": {
      "text/plain": [
       "LGBMClassifier(max_depth=3, random_state=42)"
      ]
     },
     "execution_count": 27,
     "metadata": {},
     "output_type": "execute_result"
    },
    {
     "name": "stdout",
     "output_type": "stream",
     "text": [
      "time: 2.48 s (started: 2022-05-09 18:29:39 +04:00)\n"
     ]
    }
   ],
   "source": [
    "# LightGBM on the data.\n",
    "\n",
    "model_mf = lgb.LGBMClassifier(learning_rate=0.1,max_depth=3,random_state=42)\n",
    "model_mf.fit(x_train_mf,y_train_mf, verbose=20)"
   ]
  },
  {
   "cell_type": "code",
   "execution_count": 28,
   "id": "3cd24ca0",
   "metadata": {},
   "outputs": [
    {
     "name": "stdout",
     "output_type": "stream",
     "text": [
      "ROC_AUC Train: 0.7400660124323075\n",
      "ROC_AUC Test: 0.7165251645228604\n",
      "time: 937 ms (started: 2022-05-09 18:29:41 +04:00)\n"
     ]
    }
   ],
   "source": [
    "# Getting test and train scores for LightGBM, adding test score to the comparison dictionary.\n",
    "\n",
    "Y0_lgbm_mf=model_mf.predict_proba(x_train_mf)[:,1]\n",
    "Y1_lgbm_mf=model_mf.predict_proba(x_test_mf)[:,1]\n",
    "\n",
    "print(\"ROC_AUC Train:\", roc_auc_score (y_train_mf, Y0_lgbm_mf))\n",
    "print (\"ROC_AUC Test:\", roc_auc_score(y_test_mf, Y1_lgbm_mf))\n",
    "\n",
    "aucs['Fill_mf'].append(roc_auc_score(y_test_mf, Y1_lgbm_mf))"
   ]
  },
  {
   "cell_type": "code",
   "execution_count": 29,
   "id": "76ef10c8",
   "metadata": {
    "scrolled": false
   },
   "outputs": [
    {
     "name": "stdout",
     "output_type": "stream",
     "text": [
      "[18:29:43] WARNING: /opt/concourse/worker/volumes/live/7a2b9f41-3287-451b-6691-43e9a6c0910f/volume/xgboost-split_1619728204606/work/src/learner.cc:1061: Starting in XGBoost 1.3.0, the default evaluation metric used with the objective 'binary:logistic' was changed from 'error' to 'logloss'. Explicitly set eval_metric if you'd like to restore the old behavior.\n"
     ]
    },
    {
     "data": {
      "text/plain": [
       "XGBClassifier(base_score=0.5, booster='gbtree', colsample_bylevel=1,\n",
       "              colsample_bynode=1, colsample_bytree=1, gamma=0, gpu_id=-1,\n",
       "              importance_type='gain', interaction_constraints='',\n",
       "              learning_rate=0.7, max_delta_step=0, max_depth=1,\n",
       "              min_child_weight=1, missing=nan, monotone_constraints='()',\n",
       "              n_estimators=100, n_jobs=8, num_parallel_tree=1, random_state=42,\n",
       "              reg_alpha=0, reg_lambda=1, scale_pos_weight=1, subsample=1,\n",
       "              tree_method='exact', validate_parameters=1, verbosity=None)"
      ]
     },
     "execution_count": 29,
     "metadata": {},
     "output_type": "execute_result"
    },
    {
     "name": "stdout",
     "output_type": "stream",
     "text": [
      "time: 8.47 s (started: 2022-05-09 18:29:42 +04:00)\n"
     ]
    }
   ],
   "source": [
    "# XGBoost on the data.\n",
    "\n",
    "model_mf_xgb = XGBClassifier(learning_rate=0.7,max_depth=1,random_state=42)\n",
    "model_mf_xgb.fit(x_train_mf,y_train_mf,verbose=20) "
   ]
  },
  {
   "cell_type": "code",
   "execution_count": 30,
   "id": "547f0e64",
   "metadata": {},
   "outputs": [
    {
     "name": "stdout",
     "output_type": "stream",
     "text": [
      "ROC_AUC Train: 0.7211526759263504\n",
      "ROC_AUC Test: 0.7153884078136208\n",
      "time: 596 ms (started: 2022-05-09 18:29:50 +04:00)\n"
     ]
    }
   ],
   "source": [
    "# Getting test and train scores for XGBoost, adding test score to the comparison dictionary.\n",
    "\n",
    "Y0_xgbm_mf=model_mf_xgb.predict_proba(x_train_mf)[:,1]\n",
    "Y1_xgbm_mf=model_mf_xgb.predict_proba(x_test_mf)[:,1]\n",
    "\n",
    "print(\"ROC_AUC Train:\", roc_auc_score (y_train_mf, Y0_xgbm_mf))\n",
    "print (\"ROC_AUC Test:\", roc_auc_score(y_test_mf, Y1_xgbm_mf))\n",
    "\n",
    "aucs['Fill_mf'].append(roc_auc_score(y_test_mf, Y1_xgbm_mf))"
   ]
  },
  {
   "cell_type": "code",
   "execution_count": 31,
   "id": "6dba6ca6",
   "metadata": {
    "scrolled": true
   },
   "outputs": [
    {
     "name": "stdout",
     "output_type": "stream",
     "text": [
      "Optimization terminated successfully.\n",
      "         Current function value: 0.051501\n",
      "         Iterations 11\n",
      "                           Logit Regression Results                           \n",
      "==============================================================================\n",
      "Dep. Variable:              Lead Flag   No. Observations:               638934\n",
      "Model:                          Logit   Df Residuals:                   638884\n",
      "Method:                           MLE   Df Model:                           49\n",
      "Date:                Mon, 09 May 2022   Pseudo R-squ.:                 0.04840\n",
      "Time:                        18:30:27   Log-Likelihood:                -32906.\n",
      "converged:                       True   LL-Null:                       -34580.\n",
      "Covariance Type:            nonrobust   LLR p-value:                     0.000\n",
      "==================================================================================================================\n",
      "                                                     coef    std err          z      P>|z|      [0.025      0.975]\n",
      "------------------------------------------------------------------------------------------------------------------\n",
      "NumberOfOpenBankcardTrades                         0.0706      0.007     10.448      0.000       0.057       0.084\n",
      "AnnualPercentageRate                               0.0372      0.010      3.737      0.000       0.018       0.057\n",
      "TimesTargeted                                     -0.2301      0.010    -21.939      0.000      -0.251      -0.210\n",
      "Balance                                          5.66e-05   9.51e-06      5.952      0.000     3.8e-05    7.52e-05\n",
      "Age                                                0.0030      0.001      2.648      0.008       0.001       0.005\n",
      "MonthsOnFile                                       0.0007      0.000      3.623      0.000       0.000       0.001\n",
      "OfferRate                                         -0.0831      0.009     -9.671      0.000      -0.100      -0.066\n",
      "SumBalanceAuto                                 -2.655e-06   1.99e-06     -1.334      0.182   -6.55e-06    1.25e-06\n",
      "MonthsSinceOpen                                   -0.0465      0.181     -0.257      0.797      -0.401       0.308\n",
      "Payment                                           -0.0017      0.001     -3.132      0.002      -0.003      -0.001\n",
      "AggMonthlyPaymentOpenTrades                    -6.135e-05   2.75e-05     -2.235      0.025      -0.000   -7.54e-06\n",
      "NumOfTradesOpenedWithin24MosExStudentLoan          0.0191      0.005      3.693      0.000       0.009       0.029\n",
      "PaymentChange                                     -0.0015      0.001     -2.851      0.004      -0.003      -0.000\n",
      "RemainingMonths                                   -0.0420      0.181     -0.232      0.817      -0.397       0.313\n",
      "SumPaymentAuto                                    -0.0002   8.83e-05     -1.871      0.061      -0.000    7.89e-06\n",
      "MostRecentOpenedinMonthsAuto                      -0.0087      0.002     -4.003      0.000      -0.013      -0.004\n",
      "RateChange                                        -0.0043      0.010     -0.435      0.664      -0.024       0.015\n",
      "MostRecentClosedinMonthsAuto                      -0.0008      0.001     -1.387      0.165      -0.002       0.000\n",
      "AggregateBalanceOpenRevolvingNonMortgage        -1.79e-05   3.24e-06     -5.520      0.000   -2.43e-05   -1.15e-05\n",
      "HighestRevolvingCreditAmount                   -1.376e-06   1.85e-06     -0.744      0.457      -5e-06    2.25e-06\n",
      "AgeOfMostRecentFinanceTrade                       -0.0019      0.000     -4.400      0.000      -0.003      -0.001\n",
      "NumberOfBankruptciesDischarged                     0.4069      0.037     11.023      0.000       0.335       0.479\n",
      "FICOAutoScore                                     -0.0054      0.000    -13.354      0.000      -0.006      -0.005\n",
      "HighestBankcardSingleBalToCreditRatio              0.0007      0.000      2.148      0.032    6.44e-05       0.001\n",
      "FICO8AutoScore                                    -0.0012      0.000     -3.893      0.000      -0.002      -0.001\n",
      "NumberOfNonAutoLoanAndLease12Months                0.0335      0.009      3.710      0.000       0.016       0.051\n",
      "NumberOfInquiries6Months                           0.0405      0.012      3.359      0.001       0.017       0.064\n",
      "MortgageSumHighCredit                           1.541e-07   4.42e-08      3.483      0.000    6.74e-08    2.41e-07\n",
      "NumOfChargeOffs                                    0.0685      0.008      8.185      0.000       0.052       0.085\n",
      "TermInMonths                                       0.0352      0.181      0.194      0.846      -0.320       0.390\n",
      "AgeOfOldestBankcardTrade                          -0.0009      0.000     -2.285      0.022      -0.002      -0.000\n",
      "MailType_Standard                                 -0.1379      0.028     -4.992      0.000      -0.192      -0.084\n",
      "PErsonalLoanSumBalance                            1.4e-05   3.18e-06      4.407      0.000    7.77e-06    2.02e-05\n",
      "3MonthFICOAutoDelta                                0.0004      0.001      0.537      0.591      -0.001       0.002\n",
      "AgeOfOLdestRevolvingTrade                          0.0016      0.001      2.142      0.032       0.000       0.003\n",
      "Monthlypaymentamountofhighestmortgagetrade_1MO  -1.78e-05   5.14e-05     -0.346      0.729      -0.000     8.3e-05\n",
      "MonthsSinceMostRecentMortgageOpened                0.0006      0.000      1.616      0.106      -0.000       0.001\n",
      "NumberOfBankruptciesDismissed                      0.1865      0.069      2.686      0.007       0.050       0.323\n",
      "OfferPayment                                      -0.0004      0.000     -0.869      0.385      -0.001       0.000\n",
      "AgeOfOldestOpenAndCurrentRevolvingTrade           -0.0020      0.001     -2.814      0.005      -0.003      -0.001\n",
      "OfferTerm                                          0.0020      0.004      0.491      0.623      -0.006       0.010\n",
      "AggBalToCreditRatioForOpenRetailTrades            -0.0003   7.65e-05     -4.212      0.000      -0.000      -0.000\n",
      "NumberOfTradelines                                -0.0181      0.013     -1.353      0.176      -0.044       0.008\n",
      "AllLoansPaidAsAgreed                               0.0175      0.042      0.413      0.680      -0.066       0.101\n",
      "PErsonalLoanSumHighCredit                      -4.394e-06   2.05e-06     -2.145      0.032   -8.41e-06   -3.79e-07\n",
      "PErsonalLoanSumPayment                          3.403e-06   3.78e-06      0.900      0.368   -4.01e-06    1.08e-05\n",
      "AutoTradeline                                     -0.1656      0.042     -3.921      0.000      -0.248      -0.083\n",
      "KeycodedPresenceOfAFinanceTradeOrInquiry           0.0864      0.029      2.946      0.003       0.029       0.144\n",
      "TermChange                                        -0.0002      0.007     -0.024      0.981      -0.014       0.014\n",
      "NumOfMortgageTrades                                0.0076      0.016      0.483      0.629      -0.023       0.039\n",
      "==================================================================================================================\n",
      "time: 36.1 s (started: 2022-05-09 18:29:51 +04:00)\n"
     ]
    }
   ],
   "source": [
    "# Running Logisting Regression, printing summary for visual evaluation of the non significant features\n",
    "\n",
    "logreg=LogisticRegression(C=1,penalty='l1',solver=\"liblinear\", random_state=42)\n",
    "\n",
    "logreg.fit(x_train_mf,y_train_mf)\n",
    "\n",
    "est = sm.Logit(y_train_mf, x_train_mf.astype(float)).fit() \n",
    "\n",
    "print(est.summary())"
   ]
  },
  {
   "cell_type": "code",
   "execution_count": 32,
   "id": "19c45dec",
   "metadata": {},
   "outputs": [
    {
     "name": "stdout",
     "output_type": "stream",
     "text": [
      "time: 7.94 ms (started: 2022-05-09 18:30:27 +04:00)\n"
     ]
    }
   ],
   "source": [
    "# Getting only the significant features, for filtering out non significants from the dataset.\n",
    "\n",
    "significant_features_mf = {'feature':[], 'pval':[]}\n",
    "\n",
    "for attributeIndex in range (0, x_train_0.shape[1]):\n",
    "    if(est.pvalues[attributeIndex] <= 0.05):\n",
    "        significant_features_mf['pval'].append(est.pvalues[attributeIndex])\n",
    "        significant_features_mf['feature'].append(x_train_mf.columns[attributeIndex])\n",
    "        \n",
    "significant_features_mf = pd.DataFrame.from_dict(significant_features_mf)"
   ]
  },
  {
   "cell_type": "code",
   "execution_count": 33,
   "id": "438984ac",
   "metadata": {},
   "outputs": [
    {
     "name": "stdout",
     "output_type": "stream",
     "text": [
      "time: 70.3 ms (started: 2022-05-09 18:30:27 +04:00)\n"
     ]
    }
   ],
   "source": [
    "# Leaving only significant features both in train and test datasets.\n",
    "\n",
    "x_train_mf_sign = x_train_mf[significant_features_mf['feature']]\n",
    "x_test_mf_sign = x_test_mf[significant_features_mf['feature']]"
   ]
  },
  {
   "cell_type": "code",
   "execution_count": 34,
   "id": "a2df5fc7",
   "metadata": {},
   "outputs": [
    {
     "name": "stdout",
     "output_type": "stream",
     "text": [
      "Optimization terminated successfully.\n",
      "         Current function value: 0.051545\n",
      "         Iterations 9\n",
      "                           Logit Regression Results                           \n",
      "==============================================================================\n",
      "Dep. Variable:              Lead Flag   No. Observations:               638934\n",
      "Model:                          Logit   Df Residuals:                   638902\n",
      "Method:                           MLE   Df Model:                           31\n",
      "Date:                Mon, 09 May 2022   Pseudo R-squ.:                 0.04759\n",
      "Time:                        18:30:51   Log-Likelihood:                -32934.\n",
      "converged:                       True   LL-Null:                       -34580.\n",
      "Covariance Type:            nonrobust   LLR p-value:                     0.000\n",
      "=============================================================================================================\n",
      "                                                coef    std err          z      P>|z|      [0.025      0.975]\n",
      "-------------------------------------------------------------------------------------------------------------\n",
      "NumberOfOpenBankcardTrades                    0.0700      0.007     10.403      0.000       0.057       0.083\n",
      "AnnualPercentageRate                          0.0401      0.003     13.878      0.000       0.034       0.046\n",
      "TimesTargeted                                -0.2330      0.010    -22.694      0.000      -0.253      -0.213\n",
      "Balance                                    5.611e-05   4.83e-06     11.612      0.000    4.66e-05    6.56e-05\n",
      "Age                                           0.0029      0.001      2.574      0.010       0.001       0.005\n",
      "MonthsOnFile                                  0.0007      0.000      3.924      0.000       0.000       0.001\n",
      "OfferRate                                    -0.0883      0.005    -17.882      0.000      -0.098      -0.079\n",
      "Payment                                      -0.0023      0.000     -8.556      0.000      -0.003      -0.002\n",
      "AggMonthlyPaymentOpenTrades                  -0.0001   1.97e-05     -6.237      0.000      -0.000   -8.41e-05\n",
      "NumOfTradesOpenedWithin24MosExStudentLoan     0.0191      0.005      3.704      0.000       0.009       0.029\n",
      "PaymentChange                                -0.0022      0.000     -7.824      0.000      -0.003      -0.002\n",
      "MostRecentOpenedinMonthsAuto                 -0.0108      0.002     -6.817      0.000      -0.014      -0.008\n",
      "AggregateBalanceOpenRevolvingNonMortgage  -1.745e-05   3.17e-06     -5.511      0.000   -2.37e-05   -1.12e-05\n",
      "AgeOfMostRecentFinanceTrade                  -0.0021      0.000     -4.810      0.000      -0.003      -0.001\n",
      "NumberOfBankruptciesDischarged                0.3955      0.036     10.846      0.000       0.324       0.467\n",
      "FICOAutoScore                                -0.0057      0.000    -17.322      0.000      -0.006      -0.005\n",
      "HighestBankcardSingleBalToCreditRatio         0.0007      0.000      2.048      0.041    2.95e-05       0.001\n",
      "FICO8AutoScore                               -0.0013      0.000     -4.108      0.000      -0.002      -0.001\n",
      "NumberOfNonAutoLoanAndLease12Months           0.0368      0.009      4.124      0.000       0.019       0.054\n",
      "NumberOfInquiries6Months                      0.0332      0.012      2.790      0.005       0.010       0.057\n",
      "MortgageSumHighCredit                      1.658e-07   4.11e-08      4.032      0.000    8.52e-08    2.46e-07\n",
      "NumOfChargeOffs                               0.0652      0.008      7.941      0.000       0.049       0.081\n",
      "AgeOfOldestBankcardTrade                     -0.0009      0.000     -2.298      0.022      -0.002      -0.000\n",
      "MailType_Standard                            -0.1367      0.027     -4.995      0.000      -0.190      -0.083\n",
      "PErsonalLoanSumBalance                     1.402e-05   2.87e-06      4.887      0.000     8.4e-06    1.96e-05\n",
      "AgeOfOLdestRevolvingTrade                     0.0021      0.001      2.823      0.005       0.001       0.003\n",
      "NumberOfBankruptciesDismissed                 0.1916      0.069      2.768      0.006       0.056       0.327\n",
      "AgeOfOldestOpenAndCurrentRevolvingTrade      -0.0025      0.001     -3.569      0.000      -0.004      -0.001\n",
      "AggBalToCreditRatioForOpenRetailTrades       -0.0003    7.6e-05     -4.217      0.000      -0.000      -0.000\n",
      "PErsonalLoanSumHighCredit                 -3.401e-06   1.65e-06     -2.066      0.039   -6.63e-06   -1.75e-07\n",
      "AutoTradeline                                -0.2868      0.038     -7.520      0.000      -0.362      -0.212\n",
      "KeycodedPresenceOfAFinanceTradeOrInquiry      0.0833      0.029      2.873      0.004       0.026       0.140\n",
      "=============================================================================================================\n",
      "time: 23.3 s (started: 2022-05-09 18:30:27 +04:00)\n"
     ]
    }
   ],
   "source": [
    "# Running Logistic Regression again to get the scores for train and test.\n",
    "\n",
    "logreg=LogisticRegression(C=1,penalty='l1',solver=\"liblinear\", random_state=42)\n",
    "\n",
    "logreg.fit(x_train_mf_sign,y_train_mf)\n",
    "\n",
    "est = sm.Logit(y_train_mf, x_train_mf_sign.astype(float)).fit() \n",
    "\n",
    "print(est.summary())"
   ]
  },
  {
   "cell_type": "code",
   "execution_count": 35,
   "id": "42c7c688",
   "metadata": {},
   "outputs": [
    {
     "name": "stdout",
     "output_type": "stream",
     "text": [
      "ROC_AUC Train: 0.7033365237347076\n",
      "ROC_AUC Test: 0.7058607435556867\n",
      "time: 280 ms (started: 2022-05-09 18:30:51 +04:00)\n"
     ]
    }
   ],
   "source": [
    "# Getting test and train scores for Logistic Regression, adding test score to the comparison dictionary.\n",
    "\n",
    "Y0_logreg_mf_sign=logreg.predict_proba(x_train_mf_sign)[:,1]\n",
    "Y1_logreg_mf_sign=logreg.predict_proba(x_test_mf_sign)[:,1]\n",
    "\n",
    "print(\"ROC_AUC Train:\", roc_auc_score (y_train_mf, Y0_logreg_mf_sign))\n",
    "print (\"ROC_AUC Test:\", roc_auc_score(y_test_mf, Y1_logreg_mf_sign))\n",
    "\n",
    "aucs['Fill_mf'].append(roc_auc_score(y_test_mf, Y1_logreg_mf_sign))"
   ]
  },
  {
   "cell_type": "code",
   "execution_count": 36,
   "id": "600c213b",
   "metadata": {
    "scrolled": true
   },
   "outputs": [
    {
     "data": {
      "text/html": [
       "<div>\n",
       "<style scoped>\n",
       "    .dataframe tbody tr th:only-of-type {\n",
       "        vertical-align: middle;\n",
       "    }\n",
       "\n",
       "    .dataframe tbody tr th {\n",
       "        vertical-align: top;\n",
       "    }\n",
       "\n",
       "    .dataframe thead th {\n",
       "        text-align: right;\n",
       "    }\n",
       "</style>\n",
       "<table border=\"1\" class=\"dataframe\">\n",
       "  <thead>\n",
       "    <tr style=\"text-align: right;\">\n",
       "      <th></th>\n",
       "      <th>models</th>\n",
       "      <th>Fill_0</th>\n",
       "      <th>Fill_mean</th>\n",
       "      <th>Fill_mf</th>\n",
       "    </tr>\n",
       "  </thead>\n",
       "  <tbody>\n",
       "    <tr>\n",
       "      <th>0</th>\n",
       "      <td>Lightgbm</td>\n",
       "      <td>0.715362</td>\n",
       "      <td>0.713738</td>\n",
       "      <td>0.716525</td>\n",
       "    </tr>\n",
       "    <tr>\n",
       "      <th>1</th>\n",
       "      <td>Xgboost</td>\n",
       "      <td>0.714031</td>\n",
       "      <td>0.713971</td>\n",
       "      <td>0.715388</td>\n",
       "    </tr>\n",
       "    <tr>\n",
       "      <th>2</th>\n",
       "      <td>Logistic Regression</td>\n",
       "      <td>0.703875</td>\n",
       "      <td>0.706226</td>\n",
       "      <td>0.705861</td>\n",
       "    </tr>\n",
       "  </tbody>\n",
       "</table>\n",
       "</div>"
      ],
      "text/plain": [
       "                models    Fill_0  Fill_mean   Fill_mf\n",
       "0             Lightgbm  0.715362   0.713738  0.716525\n",
       "1              Xgboost  0.714031   0.713971  0.715388\n",
       "2  Logistic Regression  0.703875   0.706226  0.705861"
      ]
     },
     "metadata": {},
     "output_type": "display_data"
    },
    {
     "name": "stdout",
     "output_type": "stream",
     "text": [
      "time: 6.38 ms (started: 2022-05-09 18:30:51 +04:00)\n"
     ]
    }
   ],
   "source": [
    "# Making dataframe from comparison dictionary.\n",
    "\n",
    "auc_df = pd.DataFrame.from_dict(aucs)\n",
    "\n",
    "display(auc_df)"
   ]
  },
  {
   "cell_type": "code",
   "execution_count": 37,
   "id": "a9623c29",
   "metadata": {},
   "outputs": [
    {
     "name": "stdout",
     "output_type": "stream",
     "text": [
      "time: 2.25 s (started: 2022-05-09 18:30:51 +04:00)\n"
     ]
    }
   ],
   "source": [
    "import dataframe_image as dfi\n",
    "dfi.export(auc_df, '../figs/comp.png')"
   ]
  },
  {
   "cell_type": "code",
   "execution_count": 38,
   "id": "34935306",
   "metadata": {},
   "outputs": [
    {
     "data": {
      "image/png": "[encoded data removed]",
      "text/plain": [
       "<Figure size 432x288 with 1 Axes>"
      ]
     },
     "metadata": {
      "needs_background": "light"
     },
     "output_type": "display_data"
    },
    {
     "name": "stdout",
     "output_type": "stream",
     "text": [
      "time: 453 ms (started: 2022-05-09 18:30:53 +04:00)\n"
     ]
    }
   ],
   "source": [
    "# Best model ROC\n",
    "\n",
    "train_auc = roc_auc_score (y_train_mf, Y0_lgbm_mf)\n",
    "test_auc = roc_auc_score(y_test_mf, Y1_lgbm_mf)\n",
    "\n",
    "tr_fpr, tr_tpr, _ = roc_curve(y_train_mf, Y0_lgbm_mf)\n",
    "ts_fpr, ts_tpr, _ = roc_curve(y_test_mf, Y1_lgbm_mf)\n",
    "pyplot.title('ROC(LGBM, MF)', fontsize=10, color='black', weight = 'bold')\n",
    "pyplot.plot(tr_fpr, tr_tpr, linestyle='--', label='Train, AUC='+str(round(train_auc, 5)))\n",
    "pyplot.plot(ts_fpr, ts_tpr, marker='.', label='Test, AUC='+str(round(test_auc, 5)))\n",
    "# axis labels\n",
    "pyplot.xlabel('False Positive Rate')\n",
    "pyplot.ylabel('True Positive Rate')\n",
    "# show the legend\n",
    "pyplot.legend()\n",
    "# show the plot\n",
    "# pyplot.savefig('../figs/roc.png', bbox_inches='tight')\n",
    "pyplot.show()"
   ]
  },
  {
   "cell_type": "markdown",
   "id": "21163284",
   "metadata": {},
   "source": [
    " # Feature impact on the target (filled by MissForest, only significant features)"
   ]
  },
  {
   "cell_type": "code",
   "execution_count": 39,
   "id": "fa6ce8cb",
   "metadata": {},
   "outputs": [
    {
     "name": "stdout",
     "output_type": "stream",
     "text": [
      "        NumberOfOpenBankcardTrades  AnnualPercentageRate  TimesTargeted  \\\n",
      "0                        -0.943440              1.845141       0.280298   \n",
      "1                         0.271223             -0.093257      -0.777897   \n",
      "2                        -0.943440             -0.871762       1.338493   \n",
      "3                        -0.538552              0.647895      -0.777897   \n",
      "4                         0.271223             -1.207935      -0.248799   \n",
      "...                            ...                   ...            ...   \n",
      "638929                   -0.133665             -1.192208      -0.777897   \n",
      "638930                    0.271223              0.062050      -0.248799   \n",
      "638931                    0.676111             -0.311475      -0.777897   \n",
      "638932                   -0.538552              0.203597      -0.777897   \n",
      "638933                   -0.538552              1.286820       1.867590   \n",
      "\n",
      "         Balance       Age  MonthsOnFile  OfferRate   Payment  \\\n",
      "0       0.729886 -0.573823     -0.234162   1.701694  1.168898   \n",
      "1       1.452552  1.187776      1.310134   1.866854  1.074319   \n",
      "2      -0.419727  1.187776      0.097499   0.464678 -0.522389   \n",
      "3       0.058206 -1.033371     -0.462179  -1.992502 -0.060623   \n",
      "4      -0.084069 -0.650414      1.527786  -0.074621 -0.717110   \n",
      "...          ...       ...           ...        ...       ...   \n",
      "638929  0.421299 -0.114276      0.221871  -0.731891 -0.132948   \n",
      "638930 -0.956901  1.570732     -0.037239  -0.475725 -1.039789   \n",
      "638931  2.340438  0.651637      0.170049  -0.981317  1.897709   \n",
      "638932  1.299959  0.115498      1.299769  -0.475725  0.885162   \n",
      "638933  0.885029 -0.420641     -1.426068   0.798369  1.335801   \n",
      "\n",
      "        AggMonthlyPaymentOpenTrades  \\\n",
      "0                         -0.382473   \n",
      "1                          1.198170   \n",
      "2                         -0.233553   \n",
      "3                         -0.693376   \n",
      "4                         -0.278838   \n",
      "...                             ...   \n",
      "638929                    -0.190009   \n",
      "638930                    -0.758692   \n",
      "638931                     0.066900   \n",
      "638932                    -0.400761   \n",
      "638933                    -0.128177   \n",
      "\n",
      "        NumOfTradesOpenedWithin24MosExStudentLoan  ...  \\\n",
      "0                                       -0.575844  ...   \n",
      "1                                       -0.575844  ...   \n",
      "2                                        1.033228  ...   \n",
      "3                                        0.067784  ...   \n",
      "4                                        0.711413  ...   \n",
      "...                                           ...  ...   \n",
      "638929                                   1.676856  ...   \n",
      "638930                                   1.033228  ...   \n",
      "638931                                   0.389599  ...   \n",
      "638932                                   0.067784  ...   \n",
      "638933                                  -0.254030  ...   \n",
      "\n",
      "        AgeOfOldestBankcardTrade  MailType_Standard  PErsonalLoanSumBalance  \\\n",
      "0                      -0.750253          -1.367890               -0.322918   \n",
      "1                       0.091931           0.731053                9.634396   \n",
      "2                      -0.750253          -1.367890                1.648434   \n",
      "3                       0.254458           0.731053               -0.012897   \n",
      "4                      -0.262673           0.731053                0.542135   \n",
      "...                          ...                ...                     ...   \n",
      "638929                  0.623838          -1.367890               -0.580973   \n",
      "638930                 -0.543401           0.731053               -0.002580   \n",
      "638931                  0.416985           0.731053                2.858463   \n",
      "638932                 -0.454750           0.731053               -0.306657   \n",
      "638933                 -0.425200           0.731053                0.049003   \n",
      "\n",
      "        AgeOfOLdestRevolvingTrade  NumberOfBankruptciesDismissed  \\\n",
      "0                       -0.827168                       7.906072   \n",
      "1                       -0.098577                      -0.084946   \n",
      "2                       -0.827168                      -0.084946   \n",
      "3                        0.042029                      -0.084946   \n",
      "4                       -0.264747                      -0.084946   \n",
      "...                           ...                            ...   \n",
      "638929                   0.361586                      -0.084946   \n",
      "638930                  -0.648216                      -0.084946   \n",
      "638931                   0.182634                      -0.084946   \n",
      "638932                  -0.571522                      -0.084946   \n",
      "638933                  -0.545957                      -0.084946   \n",
      "\n",
      "        AgeOfOldestOpenAndCurrentRevolvingTrade  \\\n",
      "0                                     -0.803578   \n",
      "1                                     -0.075458   \n",
      "2                                     -0.803578   \n",
      "3                                      0.065057   \n",
      "4                                     -0.241520   \n",
      "...                                         ...   \n",
      "638929                                 0.384408   \n",
      "638930                                -0.624742   \n",
      "638931                                 0.205571   \n",
      "638932                                -0.548097   \n",
      "638933                                -0.522549   \n",
      "\n",
      "        AggBalToCreditRatioForOpenRetailTrades  PErsonalLoanSumHighCredit  \\\n",
      "0                                     2.262714                  -0.000902   \n",
      "1                                    -0.257319                  -0.000902   \n",
      "2                                     2.671768                   0.762587   \n",
      "3                                    -0.454296                  -0.000902   \n",
      "4                                    -0.396951                  -0.000902   \n",
      "...                                        ...                        ...   \n",
      "638929                               -0.454296                  -0.347656   \n",
      "638930                               -0.454296                  -0.000902   \n",
      "638931                               -0.411288                   0.565812   \n",
      "638932                               -0.364648                  -0.000902   \n",
      "638933                               -0.420654                  -0.000902   \n",
      "\n",
      "        AutoTradeline  KeycodedPresenceOfAFinanceTradeOrInquiry  \n",
      "0           -0.361903                                 -1.036800  \n",
      "1           -0.361903                                  0.975102  \n",
      "2           -0.361903                                  0.975102  \n",
      "3           -0.361903                                 -1.036800  \n",
      "4            1.964816                                 -1.036800  \n",
      "...               ...                                       ...  \n",
      "638929      -0.361903                                  0.975102  \n",
      "638930       1.964816                                 -1.036800  \n",
      "638931      -0.361903                                  0.975102  \n",
      "638932      -0.361903                                 -1.036800  \n",
      "638933      -0.361903                                 -1.036800  \n",
      "\n",
      "[638934 rows x 32 columns]\n",
      "time: 282 ms (started: 2022-05-09 18:30:54 +04:00)\n"
     ]
    }
   ],
   "source": [
    "# Scaling data filled missing values by MissForest.\n",
    "\n",
    "scaler = StandardScaler()\n",
    "\n",
    "scaled = scaler.fit_transform(x_train_mf_sign)\n",
    "\n",
    "x_train_mf_sign_minmax = pd.DataFrame(scaled)\n",
    "x_train_mf_sign_minmax.columns = x_train_mf_sign.columns\n",
    "\n",
    "print(x_train_mf_sign_minmax)"
   ]
  },
  {
   "cell_type": "code",
   "execution_count": 40,
   "id": "5b69e185",
   "metadata": {},
   "outputs": [
    {
     "name": "stdout",
     "output_type": "stream",
     "text": [
      "time: 172 µs (started: 2022-05-09 18:30:54 +04:00)\n"
     ]
    }
   ],
   "source": [
    "# Replacing significant features with scaled features.\n",
    "\n",
    "x_train_mf_sign_minmax.columns = x_train_mf_sign.columns"
   ]
  },
  {
   "cell_type": "code",
   "execution_count": 41,
   "id": "9f6bdf4e",
   "metadata": {},
   "outputs": [
    {
     "name": "stdout",
     "output_type": "stream",
     "text": [
      "Optimization terminated successfully.\n",
      "         Current function value: 0.693045\n",
      "         Iterations 4\n",
      "                           Logit Regression Results                           \n",
      "==============================================================================\n",
      "Dep. Variable:              Lead Flag   No. Observations:               638934\n",
      "Model:                          Logit   Df Residuals:                   638902\n",
      "Method:                           MLE   Df Model:                           31\n",
      "Date:                Mon, 09 May 2022   Pseudo R-squ.:                  -11.81\n",
      "Time:                        18:31:07   Log-Likelihood:            -4.4281e+05\n",
      "converged:                       True   LL-Null:                       -34580.\n",
      "Covariance Type:            nonrobust   LLR p-value:                     1.000\n",
      "=============================================================================================================\n",
      "                                                coef    std err          z      P>|z|      [0.025      0.975]\n",
      "-------------------------------------------------------------------------------------------------------------\n",
      "NumberOfOpenBankcardTrades                    0.0071      0.004      1.910      0.056      -0.000       0.014\n",
      "AnnualPercentageRate                          0.0106      0.004      2.702      0.007       0.003       0.018\n",
      "TimesTargeted                                -0.0139      0.003     -4.878      0.000      -0.019      -0.008\n",
      "Balance                                       0.0145      0.008      1.869      0.062      -0.001       0.030\n",
      "Age                                           0.0014      0.003      0.472      0.637      -0.004       0.007\n",
      "MonthsOnFile                                  0.0021      0.003      0.607      0.544      -0.005       0.009\n",
      "OfferRate                                    -0.0104      0.004     -2.851      0.004      -0.018      -0.003\n",
      "Payment                                      -0.0120      0.009     -1.266      0.205      -0.031       0.007\n",
      "AggMonthlyPaymentOpenTrades                  -0.0040      0.003     -1.208      0.227      -0.011       0.003\n",
      "NumOfTradesOpenedWithin24MosExStudentLoan     0.0040      0.004      1.074      0.283      -0.003       0.011\n",
      "PaymentChange                                -0.0051      0.005     -0.999      0.318      -0.015       0.005\n",
      "MostRecentOpenedinMonthsAuto                 -0.0035      0.003     -1.190      0.234      -0.009       0.002\n",
      "AggregateBalanceOpenRevolvingNonMortgage     -0.0039      0.003     -1.163      0.245      -0.010       0.003\n",
      "AgeOfMostRecentFinanceTrade                  -0.0022      0.003     -0.779      0.436      -0.008       0.003\n",
      "NumberOfBankruptciesDischarged                0.0063      0.003      2.401      0.016       0.001       0.011\n",
      "FICOAutoScore                                -0.0065      0.005     -1.301      0.193      -0.016       0.003\n",
      "HighestBankcardSingleBalToCreditRatio         0.0020      0.003      0.606      0.545      -0.004       0.008\n",
      "FICO8AutoScore                               -0.0032      0.004     -0.737      0.461      -0.012       0.005\n",
      "NumberOfNonAutoLoanAndLease12Months           0.0040      0.004      0.980      0.327      -0.004       0.012\n",
      "NumberOfInquiries6Months                      0.0031      0.004      0.795      0.427      -0.005       0.011\n",
      "MortgageSumHighCredit                         0.0018      0.003      0.682      0.495      -0.003       0.007\n",
      "NumOfChargeOffs                               0.0052      0.003      1.863      0.063      -0.000       0.011\n",
      "AgeOfOldestBankcardTrade                     -0.0021      0.005     -0.434      0.664      -0.012       0.008\n",
      "MailType_Standard                            -0.0025      0.003     -0.974      0.330      -0.008       0.003\n",
      "PErsonalLoanSumBalance                        0.0025      0.003      0.907      0.365      -0.003       0.008\n",
      "AgeOfOLdestRevolvingTrade                     0.0081      0.015      0.548      0.583      -0.021       0.037\n",
      "NumberOfBankruptciesDismissed                 0.0019      0.003      0.756      0.450      -0.003       0.007\n",
      "AgeOfOldestOpenAndCurrentRevolvingTrade      -0.0093      0.014     -0.649      0.517      -0.037       0.019\n",
      "AggBalToCreditRatioForOpenRetailTrades       -0.0022      0.003     -0.747      0.455      -0.008       0.004\n",
      "PErsonalLoanSumHighCredit                    -0.0010      0.003     -0.373      0.709      -0.006       0.004\n",
      "AutoTradeline                                -0.0051      0.003     -1.822      0.069      -0.010       0.000\n",
      "KeycodedPresenceOfAFinanceTradeOrInquiry      0.0010      0.003      0.372      0.710      -0.004       0.006\n",
      "=============================================================================================================\n",
      "time: 12.7 s (started: 2022-05-09 18:30:54 +04:00)\n"
     ]
    }
   ],
   "source": [
    "# Running Logistic Regression on scaled data\n",
    "\n",
    "logreg=LogisticRegression(C=1,penalty='l1',solver=\"liblinear\", random_state=42)\n",
    "\n",
    "logreg.fit(x_train_mf_sign_minmax,y_train_mf)\n",
    "\n",
    "est = sm.Logit(y_train_mf, x_train_mf_sign_minmax.astype(float)).fit() \n",
    "\n",
    "print(est.summary())"
   ]
  },
  {
   "cell_type": "code",
   "execution_count": 42,
   "id": "125389b3",
   "metadata": {},
   "outputs": [
    {
     "name": "stdout",
     "output_type": "stream",
     "text": [
      "time: 1.38 ms (started: 2022-05-09 18:31:07 +04:00)\n"
     ]
    }
   ],
   "source": [
    "# Getting important features from Logistic Regression.\n",
    "\n",
    "importances = pd.DataFrame(data={\n",
    "    'Attribute': x_train_mf_sign_minmax.columns,\n",
    "    'Importance': logreg.coef_[0]\n",
    "})\n",
    "\n",
    "importances = importances.sort_values(by='Importance', ascending=False)"
   ]
  },
  {
   "cell_type": "code",
   "execution_count": 44,
   "id": "d95337a5",
   "metadata": {},
   "outputs": [
    {
     "data": {
      "image/png": "[encoded data removed]",
      "text/plain": [
       "<Figure size 864x432 with 1 Axes>"
      ]
     },
     "metadata": {
      "needs_background": "light"
     },
     "output_type": "display_data"
    },
    {
     "name": "stdout",
     "output_type": "stream",
     "text": [
      "time: 423 ms (started: 2022-05-09 19:44:44 +04:00)\n"
     ]
    }
   ],
   "source": [
    "# Feature importance (impact) plot.\n",
    "\n",
    "fig = pyplot.figure(figsize = (12, 6))\n",
    "pyplot.bar(x=importances['Attribute'], height=importances['Importance'], color='#087E8B')\n",
    "pyplot.title('Feature importances obtained from coefficients', size=20)\n",
    "pyplot.xticks(rotation='vertical')\n",
    "pyplot.savefig('../figs/imp.png', bbox_inches='tight')\n",
    "pyplot.show()"
   ]
  }
 ],
 "metadata": {
  "kernelspec": {
   "display_name": "Python 3",
   "language": "python",
   "name": "python3"
  },
  "language_info": {
   "codemirror_mode": {
    "name": "ipython",
    "version": 3
   },
   "file_extension": ".py",
   "mimetype": "text/x-python",
   "name": "python",
   "nbconvert_exporter": "python",
   "pygments_lexer": "ipython3",
   "version": "3.8.8"
  }
 },
 "nbformat": 4,
 "nbformat_minor": 5
}

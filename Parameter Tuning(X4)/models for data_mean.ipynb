{
 "cells": [
  {
   "cell_type": "code",
   "execution_count": 1,
   "id": "07f50eae",
   "metadata": {},
   "outputs": [
    {
     "name": "stdout",
     "output_type": "stream",
     "text": [
      "time: 185 µs (started: 2022-05-08 17:06:18 +04:00)\n"
     ]
    }
   ],
   "source": [
    "import numpy as np\n",
    "import pandas as pd\n",
    "import sklearn\n",
    "\n",
    "import lightgbm as lgb\n",
    "from xgboost import XGBClassifier\n",
    "\n",
    "from sklearn.linear_model import LogisticRegression\n",
    "from sklearn import metrics\n",
    "\n",
    "import statsmodels.api as sm\n",
    "from sklearn.metrics import roc_auc_score\n",
    "\n",
    "import warnings\n",
    "warnings.filterwarnings('ignore')\n",
    "\n",
    "%load_ext autotime"
   ]
  },
  {
   "cell_type": "code",
   "execution_count": 2,
   "id": "7a4e49e5",
   "metadata": {
    "scrolled": true
   },
   "outputs": [
    {
     "name": "stdout",
     "output_type": "stream",
     "text": [
      "time: 3.34 s (started: 2022-05-08 17:06:18 +04:00)\n"
     ]
    }
   ],
   "source": [
    "filepath = \"../Data/TrainDataMean.csv\"\n",
    "\n",
    "train_data = pd.read_csv(filepath)\n",
    "\n",
    "filepath = \"../Data/TestDataMean.csv\"\n",
    "\n",
    "test_data = pd.read_csv(filepath)"
   ]
  },
  {
   "cell_type": "code",
   "execution_count": 3,
   "id": "0d8621f8",
   "metadata": {},
   "outputs": [
    {
     "name": "stdout",
     "output_type": "stream",
     "text": [
      "time: 228 ms (started: 2022-05-08 17:06:22 +04:00)\n"
     ]
    }
   ],
   "source": [
    "# Dropping \"Lead Flag\" and \"ZIPCode\" to run LightGBM model on the train and test datasets\n",
    "\n",
    "x_train = train_data.drop(['Lead Flag', 'ZIPCode'], axis=1)\n",
    "y_train = train_data['Lead Flag']\n",
    "\n",
    "x_test = test_data.drop(['Lead Flag', 'ZIPCode'], axis=1)\n",
    "y_test = test_data['Lead Flag']"
   ]
  },
  {
   "cell_type": "code",
   "execution_count": 4,
   "id": "5c41b549",
   "metadata": {},
   "outputs": [
    {
     "name": "stdout",
     "output_type": "stream",
     "text": [
      "time: 487 µs (started: 2022-05-08 17:06:22 +04:00)\n"
     ]
    }
   ],
   "source": [
    "# In this dictionary the results of LightGBM will be added, then dataframe will be made based on this\n",
    "\n",
    "compare_results_lgbm = {'learning_rate':[], 'max_depth':[], 'score_train':[], 'score_test': []}"
   ]
  },
  {
   "cell_type": "code",
   "execution_count": 5,
   "id": "219bae12",
   "metadata": {},
   "outputs": [
    {
     "name": "stdout",
     "output_type": "stream",
     "text": [
      "[20]\ttraining's auc: 0.734391\ttraining's binary_logloss: 0.0496352\n",
      "[40]\ttraining's auc: 0.770554\ttraining's binary_logloss: 0.0476445\n",
      "[60]\ttraining's auc: 0.797229\ttraining's binary_logloss: 0.0460777\n",
      "[80]\ttraining's auc: 0.820466\ttraining's binary_logloss: 0.0446828\n",
      "[100]\ttraining's auc: 0.83952\ttraining's binary_logloss: 0.0433495\n",
      "[20]\ttraining's auc: 0.734391\ttraining's binary_logloss: 0.0496352\n",
      "[40]\ttraining's auc: 0.770554\ttraining's binary_logloss: 0.0476445\n",
      "[60]\ttraining's auc: 0.797229\ttraining's binary_logloss: 0.0460777\n",
      "[80]\ttraining's auc: 0.820466\ttraining's binary_logloss: 0.0446828\n",
      "[100]\ttraining's auc: 0.83952\ttraining's binary_logloss: 0.0433495\n",
      "[20]\ttraining's auc: 0.734391\ttraining's binary_logloss: 0.0496352\n",
      "[40]\ttraining's auc: 0.770554\ttraining's binary_logloss: 0.0476445\n",
      "[60]\ttraining's auc: 0.797229\ttraining's binary_logloss: 0.0460777\n",
      "[80]\ttraining's auc: 0.820466\ttraining's binary_logloss: 0.0446828\n",
      "[100]\ttraining's auc: 0.83952\ttraining's binary_logloss: 0.0433495\n",
      "[20]\ttraining's auc: 0.669793\ttraining's binary_logloss: 0.0529494\n",
      "[40]\ttraining's auc: 0.683777\ttraining's binary_logloss: 0.0524503\n",
      "[60]\ttraining's auc: 0.690828\ttraining's binary_logloss: 0.0521531\n",
      "[80]\ttraining's auc: 0.695928\ttraining's binary_logloss: 0.0519461\n",
      "[100]\ttraining's auc: 0.69985\ttraining's binary_logloss: 0.0517906\n",
      "[20]\ttraining's auc: 0.701261\ttraining's binary_logloss: 0.0518508\n",
      "[40]\ttraining's auc: 0.717674\ttraining's binary_logloss: 0.0511717\n",
      "[60]\ttraining's auc: 0.726757\ttraining's binary_logloss: 0.0507806\n",
      "[80]\ttraining's auc: 0.733113\ttraining's binary_logloss: 0.0505154\n",
      "[100]\ttraining's auc: 0.73831\ttraining's binary_logloss: 0.0502966\n",
      "[20]\ttraining's auc: 0.753819\ttraining's binary_logloss: 0.0490435\n",
      "[40]\ttraining's auc: 0.791939\ttraining's binary_logloss: 0.0468337\n",
      "[60]\ttraining's auc: 0.815691\ttraining's binary_logloss: 0.0450726\n",
      "[80]\ttraining's auc: 0.833136\ttraining's binary_logloss: 0.0438707\n",
      "[100]\ttraining's auc: 0.843743\ttraining's binary_logloss: 0.0433868\n",
      "[20]\ttraining's auc: 0.753819\ttraining's binary_logloss: 0.0490435\n",
      "[40]\ttraining's auc: 0.791939\ttraining's binary_logloss: 0.0468337\n",
      "[60]\ttraining's auc: 0.815691\ttraining's binary_logloss: 0.0450726\n",
      "[80]\ttraining's auc: 0.833136\ttraining's binary_logloss: 0.0438707\n",
      "[100]\ttraining's auc: 0.843743\ttraining's binary_logloss: 0.0433868\n",
      "[20]\ttraining's auc: 0.753819\ttraining's binary_logloss: 0.0490435\n",
      "[40]\ttraining's auc: 0.791939\ttraining's binary_logloss: 0.0468337\n",
      "[60]\ttraining's auc: 0.815691\ttraining's binary_logloss: 0.0450726\n",
      "[80]\ttraining's auc: 0.833136\ttraining's binary_logloss: 0.0438707\n",
      "[100]\ttraining's auc: 0.843743\ttraining's binary_logloss: 0.0433868\n",
      "[20]\ttraining's auc: 0.68015\ttraining's binary_logloss: 0.0524262\n",
      "[40]\ttraining's auc: 0.694454\ttraining's binary_logloss: 0.0519187\n",
      "[60]\ttraining's auc: 0.701917\ttraining's binary_logloss: 0.0516442\n",
      "[80]\ttraining's auc: 0.706024\ttraining's binary_logloss: 0.0514723\n",
      "[100]\ttraining's auc: 0.709181\ttraining's binary_logloss: 0.0513544\n",
      "[20]\ttraining's auc: 0.714683\ttraining's binary_logloss: 0.05121\n",
      "[40]\ttraining's auc: 0.72973\ttraining's binary_logloss: 0.0505822\n",
      "[60]\ttraining's auc: 0.739404\ttraining's binary_logloss: 0.0501879\n",
      "[80]\ttraining's auc: 0.746512\ttraining's binary_logloss: 0.0498971\n",
      "[100]\ttraining's auc: 0.752144\ttraining's binary_logloss: 0.0496374\n",
      "[20]\ttraining's auc: 0.745897\ttraining's binary_logloss: 0.0515329\n",
      "[40]\ttraining's auc: 0.759119\ttraining's binary_logloss: 0.0520596\n",
      "[60]\ttraining's auc: 0.768973\ttraining's binary_logloss: 0.0528772\n",
      "[80]\ttraining's auc: 0.772281\ttraining's binary_logloss: 0.0553685\n",
      "[100]\ttraining's auc: 0.777785\ttraining's binary_logloss: 0.0541234\n",
      "[20]\ttraining's auc: 0.745897\ttraining's binary_logloss: 0.0515329\n",
      "[40]\ttraining's auc: 0.759119\ttraining's binary_logloss: 0.0520596\n",
      "[60]\ttraining's auc: 0.768973\ttraining's binary_logloss: 0.0528772\n",
      "[80]\ttraining's auc: 0.772281\ttraining's binary_logloss: 0.0553685\n",
      "[100]\ttraining's auc: 0.777785\ttraining's binary_logloss: 0.0541234\n",
      "[20]\ttraining's auc: 0.745897\ttraining's binary_logloss: 0.0515329\n",
      "[40]\ttraining's auc: 0.759119\ttraining's binary_logloss: 0.0520596\n",
      "[60]\ttraining's auc: 0.768973\ttraining's binary_logloss: 0.0528772\n",
      "[80]\ttraining's auc: 0.772281\ttraining's binary_logloss: 0.0553685\n",
      "[100]\ttraining's auc: 0.777785\ttraining's binary_logloss: 0.0541234\n",
      "[20]\ttraining's auc: 0.689044\ttraining's binary_logloss: 0.0521016\n",
      "[40]\ttraining's auc: 0.701927\ttraining's binary_logloss: 0.0516303\n",
      "[60]\ttraining's auc: 0.707237\ttraining's binary_logloss: 0.0513951\n",
      "[80]\ttraining's auc: 0.710564\ttraining's binary_logloss: 0.0512584\n",
      "[100]\ttraining's auc: 0.713462\ttraining's binary_logloss: 0.0511619\n",
      "[20]\ttraining's auc: 0.722818\ttraining's binary_logloss: 0.0508743\n",
      "[40]\ttraining's auc: 0.736751\ttraining's binary_logloss: 0.0503088\n",
      "[60]\ttraining's auc: 0.744157\ttraining's binary_logloss: 0.0499919\n",
      "[80]\ttraining's auc: 0.750967\ttraining's binary_logloss: 0.0496685\n",
      "[100]\ttraining's auc: 0.756067\ttraining's binary_logloss: 0.0494039\n",
      "[20]\ttraining's auc: 0.725676\ttraining's binary_logloss: 0.0574678\n",
      "[40]\ttraining's auc: 0.726829\ttraining's binary_logloss: 0.0616409\n",
      "[60]\ttraining's auc: 0.72531\ttraining's binary_logloss: 0.074844\n",
      "[80]\ttraining's auc: 0.722538\ttraining's binary_logloss: 0.0644321\n",
      "[100]\ttraining's auc: 0.72174\ttraining's binary_logloss: 0.0664142\n",
      "[20]\ttraining's auc: 0.725676\ttraining's binary_logloss: 0.0574678\n",
      "[40]\ttraining's auc: 0.726829\ttraining's binary_logloss: 0.0616409\n",
      "[60]\ttraining's auc: 0.72531\ttraining's binary_logloss: 0.074844\n",
      "[80]\ttraining's auc: 0.722538\ttraining's binary_logloss: 0.0644321\n",
      "[100]\ttraining's auc: 0.72174\ttraining's binary_logloss: 0.0664142\n",
      "[20]\ttraining's auc: 0.725676\ttraining's binary_logloss: 0.0574678\n",
      "[40]\ttraining's auc: 0.726829\ttraining's binary_logloss: 0.0616409\n",
      "[60]\ttraining's auc: 0.72531\ttraining's binary_logloss: 0.074844\n",
      "[80]\ttraining's auc: 0.722538\ttraining's binary_logloss: 0.0644321\n",
      "[100]\ttraining's auc: 0.72174\ttraining's binary_logloss: 0.0664142\n",
      "[20]\ttraining's auc: 0.694797\ttraining's binary_logloss: 0.0518797\n",
      "[40]\ttraining's auc: 0.70512\ttraining's binary_logloss: 0.0514568\n",
      "[60]\ttraining's auc: 0.709657\ttraining's binary_logloss: 0.0512594\n",
      "[80]\ttraining's auc: 0.713499\ttraining's binary_logloss: 0.0511366\n",
      "[100]\ttraining's auc: 0.715836\ttraining's binary_logloss: 0.0510569\n",
      "[20]\ttraining's auc: 0.724015\ttraining's binary_logloss: 0.0508529\n",
      "[40]\ttraining's auc: 0.736838\ttraining's binary_logloss: 0.0503182\n",
      "[60]\ttraining's auc: 0.747272\ttraining's binary_logloss: 0.0498825\n",
      "[80]\ttraining's auc: 0.75357\ttraining's binary_logloss: 0.0495525\n",
      "[100]\ttraining's auc: 0.759642\ttraining's binary_logloss: 0.0492017\n",
      "[20]\ttraining's auc: 0.714847\ttraining's binary_logloss: 0.0596031\n",
      "[40]\ttraining's auc: 0.718707\ttraining's binary_logloss: 0.0648857\n",
      "[60]\ttraining's auc: 0.71826\ttraining's binary_logloss: 0.068901\n",
      "[80]\ttraining's auc: 0.715326\ttraining's binary_logloss: 0.0647472\n",
      "[100]\ttraining's auc: 0.714331\ttraining's binary_logloss: 0.0689151\n",
      "[20]\ttraining's auc: 0.714847\ttraining's binary_logloss: 0.0596031\n",
      "[40]\ttraining's auc: 0.718707\ttraining's binary_logloss: 0.0648857\n",
      "[60]\ttraining's auc: 0.71826\ttraining's binary_logloss: 0.068901\n",
      "[80]\ttraining's auc: 0.715326\ttraining's binary_logloss: 0.0647472\n",
      "[100]\ttraining's auc: 0.714331\ttraining's binary_logloss: 0.0689151\n",
      "[20]\ttraining's auc: 0.714847\ttraining's binary_logloss: 0.0596031\n",
      "[40]\ttraining's auc: 0.718707\ttraining's binary_logloss: 0.0648857\n",
      "[60]\ttraining's auc: 0.71826\ttraining's binary_logloss: 0.068901\n",
      "[80]\ttraining's auc: 0.715326\ttraining's binary_logloss: 0.0647472\n",
      "[100]\ttraining's auc: 0.714331\ttraining's binary_logloss: 0.0689151\n",
      "[20]\ttraining's auc: 0.697559\ttraining's binary_logloss: 0.0517295\n",
      "[40]\ttraining's auc: 0.707226\ttraining's binary_logloss: 0.0513403\n",
      "[60]\ttraining's auc: 0.711958\ttraining's binary_logloss: 0.0511725\n",
      "[80]\ttraining's auc: 0.714749\ttraining's binary_logloss: 0.0510705\n",
      "[100]\ttraining's auc: 0.716688\ttraining's binary_logloss: 0.0510012\n",
      "[20]\ttraining's auc: 0.723396\ttraining's binary_logloss: 0.050902\n",
      "[40]\ttraining's auc: 0.736696\ttraining's binary_logloss: 0.0503375\n",
      "[60]\ttraining's auc: 0.746491\ttraining's binary_logloss: 0.0500479\n"
     ]
    },
    {
     "name": "stdout",
     "output_type": "stream",
     "text": [
      "[80]\ttraining's auc: 0.751798\ttraining's binary_logloss: 0.0496698\n",
      "[100]\ttraining's auc: 0.757527\ttraining's binary_logloss: 0.0493517\n",
      "[20]\ttraining's auc: 0.712358\ttraining's binary_logloss: 0.0609553\n",
      "[40]\ttraining's auc: 0.710914\ttraining's binary_logloss: 0.0653626\n",
      "[60]\ttraining's auc: 0.708372\ttraining's binary_logloss: 0.0664007\n",
      "[80]\ttraining's auc: 0.710591\ttraining's binary_logloss: 0.068065\n",
      "[100]\ttraining's auc: 0.708599\ttraining's binary_logloss: 0.0739059\n",
      "[20]\ttraining's auc: 0.712358\ttraining's binary_logloss: 0.0609553\n",
      "[40]\ttraining's auc: 0.710914\ttraining's binary_logloss: 0.0653626\n",
      "[60]\ttraining's auc: 0.708372\ttraining's binary_logloss: 0.0664007\n",
      "[80]\ttraining's auc: 0.710591\ttraining's binary_logloss: 0.068065\n",
      "[100]\ttraining's auc: 0.708599\ttraining's binary_logloss: 0.0739059\n",
      "[20]\ttraining's auc: 0.712358\ttraining's binary_logloss: 0.0609553\n",
      "[40]\ttraining's auc: 0.710914\ttraining's binary_logloss: 0.0653626\n",
      "[60]\ttraining's auc: 0.708372\ttraining's binary_logloss: 0.0664007\n",
      "[80]\ttraining's auc: 0.710591\ttraining's binary_logloss: 0.068065\n",
      "[100]\ttraining's auc: 0.708599\ttraining's binary_logloss: 0.0739059\n",
      "[20]\ttraining's auc: 0.697899\ttraining's binary_logloss: 0.0516283\n",
      "[40]\ttraining's auc: 0.708118\ttraining's binary_logloss: 0.051281\n",
      "[60]\ttraining's auc: 0.712769\ttraining's binary_logloss: 0.0511265\n",
      "[80]\ttraining's auc: 0.715572\ttraining's binary_logloss: 0.051034\n",
      "[100]\ttraining's auc: 0.717536\ttraining's binary_logloss: 0.0509654\n",
      "[20]\ttraining's auc: 0.722704\ttraining's binary_logloss: 0.0509221\n",
      "[40]\ttraining's auc: 0.73299\ttraining's binary_logloss: 0.050799\n",
      "[60]\ttraining's auc: 0.740876\ttraining's binary_logloss: 0.0505493\n",
      "[80]\ttraining's auc: 0.749513\ttraining's binary_logloss: 0.0501849\n",
      "[100]\ttraining's auc: 0.755719\ttraining's binary_logloss: 0.0500796\n",
      "[20]\ttraining's auc: 0.705329\ttraining's binary_logloss: 0.0601818\n",
      "[40]\ttraining's auc: 0.703094\ttraining's binary_logloss: 0.0654997\n",
      "[60]\ttraining's auc: 0.702327\ttraining's binary_logloss: 0.067292\n",
      "[80]\ttraining's auc: 0.702774\ttraining's binary_logloss: 0.0665991\n",
      "[100]\ttraining's auc: 0.702484\ttraining's binary_logloss: 0.0704983\n",
      "[20]\ttraining's auc: 0.705329\ttraining's binary_logloss: 0.0601818\n",
      "[40]\ttraining's auc: 0.703094\ttraining's binary_logloss: 0.0654997\n",
      "[60]\ttraining's auc: 0.702327\ttraining's binary_logloss: 0.067292\n",
      "[80]\ttraining's auc: 0.702774\ttraining's binary_logloss: 0.0665991\n",
      "[100]\ttraining's auc: 0.702484\ttraining's binary_logloss: 0.0704983\n",
      "[20]\ttraining's auc: 0.705329\ttraining's binary_logloss: 0.0601818\n",
      "[40]\ttraining's auc: 0.703094\ttraining's binary_logloss: 0.0654997\n",
      "[60]\ttraining's auc: 0.702327\ttraining's binary_logloss: 0.067292\n",
      "[80]\ttraining's auc: 0.702774\ttraining's binary_logloss: 0.0665991\n",
      "[100]\ttraining's auc: 0.702484\ttraining's binary_logloss: 0.0704983\n",
      "[20]\ttraining's auc: 0.699536\ttraining's binary_logloss: 0.0515615\n",
      "[40]\ttraining's auc: 0.70938\ttraining's binary_logloss: 0.0512454\n",
      "[60]\ttraining's auc: 0.714156\ttraining's binary_logloss: 0.0510949\n",
      "[80]\ttraining's auc: 0.717187\ttraining's binary_logloss: 0.0509962\n",
      "[100]\ttraining's auc: 0.718927\ttraining's binary_logloss: 0.0509246\n",
      "[20]\ttraining's auc: 0.71875\ttraining's binary_logloss: 0.0514764\n",
      "[40]\ttraining's auc: 0.728502\ttraining's binary_logloss: 0.051899\n",
      "[60]\ttraining's auc: 0.734816\ttraining's binary_logloss: 0.0515365\n",
      "[80]\ttraining's auc: 0.740904\ttraining's binary_logloss: 0.0512079\n",
      "[100]\ttraining's auc: 0.747073\ttraining's binary_logloss: 0.0509389\n",
      "[20]\ttraining's auc: 0.699298\ttraining's binary_logloss: 0.0624955\n",
      "[40]\ttraining's auc: 0.699641\ttraining's binary_logloss: 0.071931\n",
      "[60]\ttraining's auc: 0.697206\ttraining's binary_logloss: 0.0704827\n",
      "[80]\ttraining's auc: 0.696152\ttraining's binary_logloss: 0.0701568\n",
      "[100]\ttraining's auc: 0.695813\ttraining's binary_logloss: 0.0930699\n",
      "[20]\ttraining's auc: 0.699298\ttraining's binary_logloss: 0.0624955\n",
      "[40]\ttraining's auc: 0.699641\ttraining's binary_logloss: 0.071931\n",
      "[60]\ttraining's auc: 0.697206\ttraining's binary_logloss: 0.0704827\n",
      "[80]\ttraining's auc: 0.696152\ttraining's binary_logloss: 0.0701568\n",
      "[100]\ttraining's auc: 0.695813\ttraining's binary_logloss: 0.0930699\n",
      "[20]\ttraining's auc: 0.699298\ttraining's binary_logloss: 0.0624955\n",
      "[40]\ttraining's auc: 0.699641\ttraining's binary_logloss: 0.071931\n",
      "[60]\ttraining's auc: 0.697206\ttraining's binary_logloss: 0.0704827\n",
      "[80]\ttraining's auc: 0.696152\ttraining's binary_logloss: 0.0701568\n",
      "[100]\ttraining's auc: 0.695813\ttraining's binary_logloss: 0.0930699\n",
      "[20]\ttraining's auc: 0.698875\ttraining's binary_logloss: 0.0515634\n",
      "[40]\ttraining's auc: 0.708823\ttraining's binary_logloss: 0.0512591\n",
      "[60]\ttraining's auc: 0.713958\ttraining's binary_logloss: 0.0511055\n",
      "[80]\ttraining's auc: 0.717111\ttraining's binary_logloss: 0.0509929\n",
      "[100]\ttraining's auc: 0.719279\ttraining's binary_logloss: 0.0509159\n",
      "[20]\ttraining's auc: 0.715416\ttraining's binary_logloss: 0.05168\n",
      "[40]\ttraining's auc: 0.725648\ttraining's binary_logloss: 0.0519831\n",
      "[60]\ttraining's auc: 0.731488\ttraining's binary_logloss: 0.0525163\n",
      "[80]\ttraining's auc: 0.737151\ttraining's binary_logloss: 0.0524904\n",
      "[100]\ttraining's auc: 0.743123\ttraining's binary_logloss: 0.0531168\n",
      "time: 6min 3s (started: 2022-05-08 17:06:22 +04:00)\n"
     ]
    }
   ],
   "source": [
    "# Running nested for loops to put values in the parameters of LightGBM, run the model, save the train and test scores. \n",
    "\n",
    "results = []\n",
    "for i in np.arange (0.1, 0.9,0.1):\n",
    "    for j in range(-5,5, 2):\n",
    "        model = lgb.LGBMClassifier(learning_rate=i, max_depth=j, random_state=42)\n",
    "        model.fit(x_train, y_train, eval_set=[(x_train,y_train)], eval_metric='AUC', verbose=20)\n",
    "        \n",
    "        compare_results_lgbm['learning_rate'].append(i)\n",
    "        compare_results_lgbm['max_depth'].append(j)\n",
    "        \n",
    "        Y0_lgbm=model.predict_proba(x_train)[:,1]\n",
    "        Y1_lgbm=model.predict_proba(x_test)[:,1]\n",
    "        \n",
    "        compare_results_lgbm['score_train'].append(roc_auc_score(y_train, Y0_lgbm))\n",
    "        compare_results_lgbm['score_test'].append(roc_auc_score(y_test, Y1_lgbm))"
   ]
  },
  {
   "cell_type": "code",
   "execution_count": 6,
   "id": "14fc5b99",
   "metadata": {},
   "outputs": [
    {
     "data": {
      "text/html": [
       "<div>\n",
       "<style scoped>\n",
       "    .dataframe tbody tr th:only-of-type {\n",
       "        vertical-align: middle;\n",
       "    }\n",
       "\n",
       "    .dataframe tbody tr th {\n",
       "        vertical-align: top;\n",
       "    }\n",
       "\n",
       "    .dataframe thead th {\n",
       "        text-align: right;\n",
       "    }\n",
       "</style>\n",
       "<table border=\"1\" class=\"dataframe\">\n",
       "  <thead>\n",
       "    <tr style=\"text-align: right;\">\n",
       "      <th></th>\n",
       "      <th>learning_rate</th>\n",
       "      <th>max_depth</th>\n",
       "      <th>score_train</th>\n",
       "      <th>score_test</th>\n",
       "    </tr>\n",
       "  </thead>\n",
       "  <tbody>\n",
       "    <tr>\n",
       "      <th>28</th>\n",
       "      <td>0.6</td>\n",
       "      <td>1</td>\n",
       "      <td>0.717536</td>\n",
       "      <td>0.713738</td>\n",
       "    </tr>\n",
       "  </tbody>\n",
       "</table>\n",
       "</div>"
      ],
      "text/plain": [
       "    learning_rate  max_depth  score_train  score_test\n",
       "28            0.6          1     0.717536    0.713738"
      ]
     },
     "execution_count": 6,
     "metadata": {},
     "output_type": "execute_result"
    },
    {
     "name": "stdout",
     "output_type": "stream",
     "text": [
      "time: 26.7 ms (started: 2022-05-08 17:12:25 +04:00)\n"
     ]
    }
   ],
   "source": [
    "# Making dataframe from dictionary. Getting the best test score for LightGBM and corresponding parameters.\n",
    "\n",
    "compare_results_lgbm = pd.DataFrame.from_dict(compare_results_lgbm)\n",
    "compare_results_lgbm[compare_results_lgbm['score_test'] == max(compare_results_lgbm['score_test'])] #0.2 -1"
   ]
  },
  {
   "cell_type": "code",
   "execution_count": 7,
   "id": "f5de466c",
   "metadata": {},
   "outputs": [
    {
     "name": "stdout",
     "output_type": "stream",
     "text": [
      "time: 204 µs (started: 2022-05-08 17:12:25 +04:00)\n"
     ]
    }
   ],
   "source": [
    "# In this dictionary the results of XGBoost will be added, then dataframe will be made based on this\n",
    "\n",
    "compare_results_xgb = {'learning_rate':[], 'max_depth':[], 'score_train':[], 'score_test': []}"
   ]
  },
  {
   "cell_type": "code",
   "execution_count": 8,
   "id": "18c999f0",
   "metadata": {},
   "outputs": [
    {
     "name": "stdout",
     "output_type": "stream",
     "text": [
      "learning rate:  0.1  max_depth:  1\n",
      "[0]\tvalidation_0-auc:0.59582\n",
      "[20]\tvalidation_0-auc:0.59582\n",
      "[40]\tvalidation_0-auc:0.65484\n",
      "[60]\tvalidation_0-auc:0.67245\n",
      "[80]\tvalidation_0-auc:0.68376\n",
      "[99]\tvalidation_0-auc:0.69037\n",
      "learning rate:  0.1  max_depth:  5\n",
      "[0]\tvalidation_0-auc:0.63420\n",
      "[20]\tvalidation_0-auc:0.69313\n",
      "[40]\tvalidation_0-auc:0.71731\n",
      "[60]\tvalidation_0-auc:0.74685\n",
      "[80]\tvalidation_0-auc:0.76709\n",
      "[99]\tvalidation_0-auc:0.77776\n",
      "learning rate:  0.1  max_depth:  9\n",
      "[0]\tvalidation_0-auc:0.63526\n",
      "[20]\tvalidation_0-auc:0.73398\n",
      "[40]\tvalidation_0-auc:0.83351\n",
      "[60]\tvalidation_0-auc:0.90051\n",
      "[80]\tvalidation_0-auc:0.92198\n",
      "[99]\tvalidation_0-auc:0.93354\n",
      "learning rate:  0.30000000000000004  max_depth:  1\n",
      "[0]\tvalidation_0-auc:0.59582\n",
      "[20]\tvalidation_0-auc:0.67233\n",
      "[40]\tvalidation_0-auc:0.69548\n",
      "[60]\tvalidation_0-auc:0.70466\n",
      "[80]\tvalidation_0-auc:0.70960\n",
      "[99]\tvalidation_0-auc:0.71271\n",
      "learning rate:  0.30000000000000004  max_depth:  5\n",
      "[0]\tvalidation_0-auc:0.63420\n",
      "[20]\tvalidation_0-auc:0.74425\n",
      "[40]\tvalidation_0-auc:0.78246\n",
      "[60]\tvalidation_0-auc:0.80189\n",
      "[80]\tvalidation_0-auc:0.82233\n",
      "[99]\tvalidation_0-auc:0.83615\n",
      "learning rate:  0.30000000000000004  max_depth:  9\n",
      "[0]\tvalidation_0-auc:0.63526\n",
      "[20]\tvalidation_0-auc:0.88739\n",
      "[40]\tvalidation_0-auc:0.93095\n",
      "[60]\tvalidation_0-auc:0.95256\n",
      "[80]\tvalidation_0-auc:0.96792\n",
      "[99]\tvalidation_0-auc:0.97813\n",
      "learning rate:  0.5000000000000001  max_depth:  1\n",
      "[0]\tvalidation_0-auc:0.59582\n",
      "[20]\tvalidation_0-auc:0.69064\n",
      "[40]\tvalidation_0-auc:0.70548\n",
      "[60]\tvalidation_0-auc:0.71169\n",
      "[80]\tvalidation_0-auc:0.71503\n",
      "[99]\tvalidation_0-auc:0.71733\n",
      "learning rate:  0.5000000000000001  max_depth:  5\n",
      "[0]\tvalidation_0-auc:0.63420\n",
      "[20]\tvalidation_0-auc:0.76543\n",
      "[40]\tvalidation_0-auc:0.79888\n",
      "[60]\tvalidation_0-auc:0.82286\n",
      "[80]\tvalidation_0-auc:0.84372\n",
      "[99]\tvalidation_0-auc:0.86033\n",
      "learning rate:  0.5000000000000001  max_depth:  9\n",
      "[0]\tvalidation_0-auc:0.63526\n",
      "[20]\tvalidation_0-auc:0.90510\n",
      "[40]\tvalidation_0-auc:0.94969\n",
      "[60]\tvalidation_0-auc:0.97556\n",
      "[80]\tvalidation_0-auc:0.98941\n",
      "[99]\tvalidation_0-auc:0.99647\n",
      "learning rate:  0.7000000000000001  max_depth:  1\n",
      "[0]\tvalidation_0-auc:0.59582\n",
      "[20]\tvalidation_0-auc:0.69552\n",
      "[40]\tvalidation_0-auc:0.70845\n",
      "[60]\tvalidation_0-auc:0.71361\n",
      "[80]\tvalidation_0-auc:0.71706\n",
      "[99]\tvalidation_0-auc:0.71874\n",
      "learning rate:  0.7000000000000001  max_depth:  5\n",
      "[0]\tvalidation_0-auc:0.63420\n",
      "[20]\tvalidation_0-auc:0.77333\n",
      "[40]\tvalidation_0-auc:0.80848\n",
      "[60]\tvalidation_0-auc:0.83667\n",
      "[80]\tvalidation_0-auc:0.86314\n",
      "[99]\tvalidation_0-auc:0.88253\n",
      "learning rate:  0.7000000000000001  max_depth:  9\n",
      "[0]\tvalidation_0-auc:0.63526\n",
      "[20]\tvalidation_0-auc:0.91707\n",
      "[40]\tvalidation_0-auc:0.95998\n",
      "[60]\tvalidation_0-auc:0.98810\n",
      "[80]\tvalidation_0-auc:0.99826\n",
      "[99]\tvalidation_0-auc:0.99978\n",
      "time: 15min 51s (started: 2022-05-08 17:12:25 +04:00)\n"
     ]
    }
   ],
   "source": [
    "# Running nested for loops to put values in the parameters of XGBoost, run the model, save the train and test scores. \n",
    "\n",
    "results = []\n",
    "for i in np.arange (0.1, 0.9,0.2):\n",
    "    for j in range(1,10, 4):\n",
    "        print('learning rate: ', i, \" max_depth: \", j)\n",
    "        model = XGBClassifier(learning_rate=i, max_depth=j, random_state=42)\n",
    "        model.fit(x_train, y_train, eval_set=[(x_train, y_train)], eval_metric='auc', verbose=20)\n",
    "        \n",
    "        compare_results_xgb['learning_rate'].append(i)\n",
    "        compare_results_xgb['max_depth'].append(j)\n",
    "        \n",
    "        \n",
    "        Y0_xgb=model.predict_proba(x_train)[:,1]\n",
    "        Y1_xgb=model.predict_proba(x_test)[:,1]\n",
    "        \n",
    "        compare_results_xgb['score_train'].append(roc_auc_score(y_train, Y0_xgb))\n",
    "        compare_results_xgb['score_test'].append(roc_auc_score(y_test, Y1_xgb))"
   ]
  },
  {
   "cell_type": "code",
   "execution_count": 9,
   "id": "c4838bc6",
   "metadata": {},
   "outputs": [
    {
     "data": {
      "text/html": [
       "<div>\n",
       "<style scoped>\n",
       "    .dataframe tbody tr th:only-of-type {\n",
       "        vertical-align: middle;\n",
       "    }\n",
       "\n",
       "    .dataframe tbody tr th {\n",
       "        vertical-align: top;\n",
       "    }\n",
       "\n",
       "    .dataframe thead th {\n",
       "        text-align: right;\n",
       "    }\n",
       "</style>\n",
       "<table border=\"1\" class=\"dataframe\">\n",
       "  <thead>\n",
       "    <tr style=\"text-align: right;\">\n",
       "      <th></th>\n",
       "      <th>learning_rate</th>\n",
       "      <th>max_depth</th>\n",
       "      <th>score_train</th>\n",
       "      <th>score_test</th>\n",
       "    </tr>\n",
       "  </thead>\n",
       "  <tbody>\n",
       "    <tr>\n",
       "      <th>9</th>\n",
       "      <td>0.7</td>\n",
       "      <td>1</td>\n",
       "      <td>0.718745</td>\n",
       "      <td>0.713971</td>\n",
       "    </tr>\n",
       "  </tbody>\n",
       "</table>\n",
       "</div>"
      ],
      "text/plain": [
       "   learning_rate  max_depth  score_train  score_test\n",
       "9            0.7          1     0.718745    0.713971"
      ]
     },
     "execution_count": 9,
     "metadata": {},
     "output_type": "execute_result"
    },
    {
     "name": "stdout",
     "output_type": "stream",
     "text": [
      "time: 16.6 ms (started: 2022-05-08 17:28:16 +04:00)\n"
     ]
    }
   ],
   "source": [
    "# Making dataframe from dictionary. Getting the best test score for XGBoost and corresponding parameters.\n",
    "\n",
    "compare_results_xgb = pd.DataFrame.from_dict(compare_results_xgb)\n",
    "compare_results_xgb[compare_results_xgb['score_test'] == max(compare_results_xgb['score_test'])] #0.2 -1"
   ]
  },
  {
   "cell_type": "code",
   "execution_count": 10,
   "id": "4254d8ae",
   "metadata": {},
   "outputs": [
    {
     "name": "stdout",
     "output_type": "stream",
     "text": [
      "ROC_AUC Train: 0.5316997123894613\n",
      "ROC_AUC Test: 0.5266451716890503\n",
      "time: 12.2 s (started: 2022-05-08 17:28:16 +04:00)\n"
     ]
    }
   ],
   "source": [
    "# Running Logistic Regression without regularization \n",
    "\n",
    "logreg = LogisticRegression(random_state=42)\n",
    "\n",
    "logreg.fit(x_train,y_train)\n",
    "\n",
    "Y0_logreg=logreg.predict_proba(x_train)[:,1]\n",
    "Y1_logreg=logreg.predict_proba(x_test)[:,1]\n",
    "\n",
    "print(\"ROC_AUC Train:\", roc_auc_score (y_train, Y0_logreg))\n",
    "print (\"ROC_AUC Test:\", roc_auc_score(y_test, Y1_logreg))"
   ]
  },
  {
   "cell_type": "code",
   "execution_count": 11,
   "id": "eec9b0aa",
   "metadata": {},
   "outputs": [
    {
     "name": "stdout",
     "output_type": "stream",
     "text": [
      "ROC_AUC Train: 0.7046583518729963\n",
      "ROC_AUC Test: 0.7076435614856322\n",
      "time: 1min 9s (started: 2022-05-08 17:28:29 +04:00)\n"
     ]
    }
   ],
   "source": [
    "# Running Logistic Regression with regularization. Better results than without regularization\n",
    "\n",
    "logreg=LogisticRegression(C=1,penalty='l1',solver=\"liblinear\", random_state=42)\n",
    "\n",
    "logreg.fit(x_train,y_train)\n",
    "\n",
    "Y0_logreg=logreg.predict_proba(x_train)[:,1]\n",
    "Y1_logreg=logreg.predict_proba(x_test)[:,1]\n",
    "\n",
    "print(\"ROC_AUC Train:\", roc_auc_score (y_train, Y0_logreg))\n",
    "print (\"ROC_AUC Test:\", roc_auc_score(y_test, Y1_logreg))"
   ]
  }
 ],
 "metadata": {
  "kernelspec": {
   "display_name": "Python 3",
   "language": "python",
   "name": "python3"
  },
  "language_info": {
   "codemirror_mode": {
    "name": "ipython",
    "version": 3
   },
   "file_extension": ".py",
   "mimetype": "text/x-python",
   "name": "python",
   "nbconvert_exporter": "python",
   "pygments_lexer": "ipython3",
   "version": "3.8.8"
  }
 },
 "nbformat": 4,
 "nbformat_minor": 5
}

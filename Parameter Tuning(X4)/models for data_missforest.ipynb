{
 "cells": [
  {
   "cell_type": "code",
   "execution_count": 1,
   "id": "75626f1f",
   "metadata": {},
   "outputs": [
    {
     "name": "stdout",
     "output_type": "stream",
     "text": [
      "time: 191 µs (started: 2022-05-08 17:06:26 +04:00)\n"
     ]
    }
   ],
   "source": [
    "import numpy as np\n",
    "import pandas as pd\n",
    "import sklearn\n",
    "\n",
    "import lightgbm as lgb\n",
    "from xgboost import XGBClassifier\n",
    "\n",
    "from sklearn.linear_model import LogisticRegression\n",
    "from sklearn import metrics\n",
    "\n",
    "import statsmodels.api as sm\n",
    "from sklearn.metrics import roc_auc_score\n",
    "\n",
    "import warnings\n",
    "warnings.filterwarnings('ignore')\n",
    "\n",
    "%load_ext autotime"
   ]
  },
  {
   "cell_type": "code",
   "execution_count": 2,
   "id": "0e96fdeb",
   "metadata": {},
   "outputs": [
    {
     "name": "stdout",
     "output_type": "stream",
     "text": [
      "time: 5.14 s (started: 2022-05-08 17:06:26 +04:00)\n"
     ]
    }
   ],
   "source": [
    "filepath = \"../Data/TrainDataMf.csv\"\n",
    "\n",
    "train_data = pd.read_csv(filepath)\n",
    "\n",
    "filepath = \"../Data/TestDataMf.csv\"\n",
    "\n",
    "test_data = pd.read_csv(filepath)"
   ]
  },
  {
   "cell_type": "code",
   "execution_count": 3,
   "id": "f71a7c69",
   "metadata": {},
   "outputs": [
    {
     "name": "stdout",
     "output_type": "stream",
     "text": [
      "time: 372 ms (started: 2022-05-08 17:06:31 +04:00)\n"
     ]
    }
   ],
   "source": [
    "# Dropping \"Lead Flag\" and \"ZIPCode\" to run LightGBM model on the train and test datasets\n",
    "\n",
    "x_train = train_data.drop(['Lead Flag', 'ZIPCode'], axis=1)\n",
    "y_train = train_data['Lead Flag']\n",
    "\n",
    "x_test = test_data.drop(['Lead Flag', 'ZIPCode'], axis=1)\n",
    "y_test = test_data['Lead Flag']"
   ]
  },
  {
   "cell_type": "code",
   "execution_count": 4,
   "id": "ca6cf9b9",
   "metadata": {},
   "outputs": [
    {
     "name": "stdout",
     "output_type": "stream",
     "text": [
      "time: 465 µs (started: 2022-05-08 17:06:31 +04:00)\n"
     ]
    }
   ],
   "source": [
    "# In this dictionary the results of LightGBM will be added, then dataframe will be made based on this\n",
    "\n",
    "compare_results_lgbm = {'learning_rate':[], 'max_depth':[], 'score_train':[], 'score_test': []}"
   ]
  },
  {
   "cell_type": "code",
   "execution_count": 5,
   "id": "f421f296",
   "metadata": {},
   "outputs": [
    {
     "name": "stdout",
     "output_type": "stream",
     "text": [
      "[20]\ttraining's auc: 0.735908\ttraining's binary_logloss: 0.0495738\n",
      "[40]\ttraining's auc: 0.77044\ttraining's binary_logloss: 0.0475879\n",
      "[60]\ttraining's auc: 0.799294\ttraining's binary_logloss: 0.0459133\n",
      "[80]\ttraining's auc: 0.820631\ttraining's binary_logloss: 0.0445185\n",
      "[100]\ttraining's auc: 0.8394\ttraining's binary_logloss: 0.0431815\n",
      "[20]\ttraining's auc: 0.735908\ttraining's binary_logloss: 0.0495738\n",
      "[40]\ttraining's auc: 0.77044\ttraining's binary_logloss: 0.0475879\n",
      "[60]\ttraining's auc: 0.799294\ttraining's binary_logloss: 0.0459133\n",
      "[80]\ttraining's auc: 0.820631\ttraining's binary_logloss: 0.0445185\n",
      "[100]\ttraining's auc: 0.8394\ttraining's binary_logloss: 0.0431815\n",
      "[20]\ttraining's auc: 0.735908\ttraining's binary_logloss: 0.0495738\n",
      "[40]\ttraining's auc: 0.77044\ttraining's binary_logloss: 0.0475879\n",
      "[60]\ttraining's auc: 0.799294\ttraining's binary_logloss: 0.0459133\n",
      "[80]\ttraining's auc: 0.820631\ttraining's binary_logloss: 0.0445185\n",
      "[100]\ttraining's auc: 0.8394\ttraining's binary_logloss: 0.0431815\n",
      "[20]\ttraining's auc: 0.668745\ttraining's binary_logloss: 0.0529616\n",
      "[40]\ttraining's auc: 0.684099\ttraining's binary_logloss: 0.0524577\n",
      "[60]\ttraining's auc: 0.69096\ttraining's binary_logloss: 0.0521532\n",
      "[80]\ttraining's auc: 0.696602\ttraining's binary_logloss: 0.0519384\n",
      "[100]\ttraining's auc: 0.700855\ttraining's binary_logloss: 0.0517743\n",
      "[20]\ttraining's auc: 0.702732\ttraining's binary_logloss: 0.0518019\n",
      "[40]\ttraining's auc: 0.719188\ttraining's binary_logloss: 0.0511239\n",
      "[60]\ttraining's auc: 0.728755\ttraining's binary_logloss: 0.0507105\n",
      "[80]\ttraining's auc: 0.735113\ttraining's binary_logloss: 0.050442\n",
      "[100]\ttraining's auc: 0.740066\ttraining's binary_logloss: 0.0502287\n",
      "[20]\ttraining's auc: 0.75544\ttraining's binary_logloss: 0.0488085\n",
      "[40]\ttraining's auc: 0.79453\ttraining's binary_logloss: 0.0467197\n",
      "[60]\ttraining's auc: 0.816729\ttraining's binary_logloss: 0.0457955\n",
      "[80]\ttraining's auc: 0.831739\ttraining's binary_logloss: 0.0457865\n",
      "[100]\ttraining's auc: 0.843064\ttraining's binary_logloss: 0.0457541\n",
      "[20]\ttraining's auc: 0.75544\ttraining's binary_logloss: 0.0488085\n",
      "[40]\ttraining's auc: 0.79453\ttraining's binary_logloss: 0.0467197\n",
      "[60]\ttraining's auc: 0.816729\ttraining's binary_logloss: 0.0457955\n",
      "[80]\ttraining's auc: 0.831739\ttraining's binary_logloss: 0.0457865\n",
      "[100]\ttraining's auc: 0.843064\ttraining's binary_logloss: 0.0457541\n",
      "[20]\ttraining's auc: 0.75544\ttraining's binary_logloss: 0.0488085\n",
      "[40]\ttraining's auc: 0.79453\ttraining's binary_logloss: 0.0467197\n",
      "[60]\ttraining's auc: 0.816729\ttraining's binary_logloss: 0.0457955\n",
      "[80]\ttraining's auc: 0.831739\ttraining's binary_logloss: 0.0457865\n",
      "[100]\ttraining's auc: 0.843064\ttraining's binary_logloss: 0.0457541\n",
      "[20]\ttraining's auc: 0.681429\ttraining's binary_logloss: 0.0524314\n",
      "[40]\ttraining's auc: 0.69699\ttraining's binary_logloss: 0.0519092\n",
      "[60]\ttraining's auc: 0.703034\ttraining's binary_logloss: 0.0516195\n",
      "[80]\ttraining's auc: 0.707331\ttraining's binary_logloss: 0.0514393\n",
      "[100]\ttraining's auc: 0.710184\ttraining's binary_logloss: 0.0513127\n",
      "[20]\ttraining's auc: 0.718228\ttraining's binary_logloss: 0.0511232\n",
      "[40]\ttraining's auc: 0.733757\ttraining's binary_logloss: 0.0504888\n",
      "[60]\ttraining's auc: 0.742096\ttraining's binary_logloss: 0.0501063\n",
      "[80]\ttraining's auc: 0.749935\ttraining's binary_logloss: 0.0497774\n",
      "[100]\ttraining's auc: 0.755748\ttraining's binary_logloss: 0.0495014\n",
      "[20]\ttraining's auc: 0.748549\ttraining's binary_logloss: 0.0512158\n",
      "[40]\ttraining's auc: 0.764756\ttraining's binary_logloss: 0.0512581\n",
      "[60]\ttraining's auc: 0.780949\ttraining's binary_logloss: 0.0504877\n",
      "[80]\ttraining's auc: 0.788668\ttraining's binary_logloss: 0.0513517\n",
      "[100]\ttraining's auc: 0.790663\ttraining's binary_logloss: 0.0549116\n",
      "[20]\ttraining's auc: 0.748549\ttraining's binary_logloss: 0.0512158\n",
      "[40]\ttraining's auc: 0.764756\ttraining's binary_logloss: 0.0512581\n",
      "[60]\ttraining's auc: 0.780949\ttraining's binary_logloss: 0.0504877\n",
      "[80]\ttraining's auc: 0.788668\ttraining's binary_logloss: 0.0513517\n",
      "[100]\ttraining's auc: 0.790663\ttraining's binary_logloss: 0.0549116\n",
      "[20]\ttraining's auc: 0.748549\ttraining's binary_logloss: 0.0512158\n",
      "[40]\ttraining's auc: 0.764756\ttraining's binary_logloss: 0.0512581\n",
      "[60]\ttraining's auc: 0.780949\ttraining's binary_logloss: 0.0504877\n",
      "[80]\ttraining's auc: 0.788668\ttraining's binary_logloss: 0.0513517\n",
      "[100]\ttraining's auc: 0.790663\ttraining's binary_logloss: 0.0549116\n",
      "[20]\ttraining's auc: 0.688245\ttraining's binary_logloss: 0.0520996\n",
      "[40]\ttraining's auc: 0.702685\ttraining's binary_logloss: 0.0515993\n",
      "[60]\ttraining's auc: 0.708711\ttraining's binary_logloss: 0.0513567\n",
      "[80]\ttraining's auc: 0.711741\ttraining's binary_logloss: 0.0512143\n",
      "[100]\ttraining's auc: 0.714499\ttraining's binary_logloss: 0.0511113\n",
      "[20]\ttraining's auc: 0.723705\ttraining's binary_logloss: 0.0508479\n",
      "[40]\ttraining's auc: 0.738489\ttraining's binary_logloss: 0.0502332\n",
      "[60]\ttraining's auc: 0.74816\ttraining's binary_logloss: 0.0498292\n",
      "[80]\ttraining's auc: 0.756093\ttraining's binary_logloss: 0.049505\n",
      "[100]\ttraining's auc: 0.762108\ttraining's binary_logloss: 0.0491107\n",
      "[20]\ttraining's auc: 0.741528\ttraining's binary_logloss: 0.0573133\n",
      "[40]\ttraining's auc: 0.741866\ttraining's binary_logloss: 0.0604798\n",
      "[60]\ttraining's auc: 0.734097\ttraining's binary_logloss: 0.0608547\n",
      "[80]\ttraining's auc: 0.738505\ttraining's binary_logloss: 0.0635844\n",
      "[100]\ttraining's auc: 0.739463\ttraining's binary_logloss: 0.06514\n",
      "[20]\ttraining's auc: 0.741528\ttraining's binary_logloss: 0.0573133\n",
      "[40]\ttraining's auc: 0.741866\ttraining's binary_logloss: 0.0604798\n",
      "[60]\ttraining's auc: 0.734097\ttraining's binary_logloss: 0.0608547\n",
      "[80]\ttraining's auc: 0.738505\ttraining's binary_logloss: 0.0635844\n",
      "[100]\ttraining's auc: 0.739463\ttraining's binary_logloss: 0.06514\n",
      "[20]\ttraining's auc: 0.741528\ttraining's binary_logloss: 0.0573133\n",
      "[40]\ttraining's auc: 0.741866\ttraining's binary_logloss: 0.0604798\n",
      "[60]\ttraining's auc: 0.734097\ttraining's binary_logloss: 0.0608547\n",
      "[80]\ttraining's auc: 0.738505\ttraining's binary_logloss: 0.0635844\n",
      "[100]\ttraining's auc: 0.739463\ttraining's binary_logloss: 0.06514\n",
      "[20]\ttraining's auc: 0.694285\ttraining's binary_logloss: 0.0518643\n",
      "[40]\ttraining's auc: 0.705922\ttraining's binary_logloss: 0.0514173\n",
      "[60]\ttraining's auc: 0.710975\ttraining's binary_logloss: 0.0512102\n",
      "[80]\ttraining's auc: 0.714773\ttraining's binary_logloss: 0.0510853\n",
      "[100]\ttraining's auc: 0.717279\ttraining's binary_logloss: 0.0509974\n",
      "[20]\ttraining's auc: 0.727189\ttraining's binary_logloss: 0.0507356\n",
      "[40]\ttraining's auc: 0.739461\ttraining's binary_logloss: 0.0502118\n",
      "[60]\ttraining's auc: 0.746518\ttraining's binary_logloss: 0.0499107\n",
      "[80]\ttraining's auc: 0.754358\ttraining's binary_logloss: 0.0495491\n",
      "[100]\ttraining's auc: 0.760976\ttraining's binary_logloss: 0.0492911\n",
      "[20]\ttraining's auc: 0.719576\ttraining's binary_logloss: 0.0585502\n",
      "[40]\ttraining's auc: 0.722033\ttraining's binary_logloss: 0.0600793\n",
      "[60]\ttraining's auc: 0.723341\ttraining's binary_logloss: 0.0616791\n",
      "[80]\ttraining's auc: 0.722908\ttraining's binary_logloss: 0.0700116\n",
      "[100]\ttraining's auc: 0.723468\ttraining's binary_logloss: 0.0705697\n",
      "[20]\ttraining's auc: 0.719576\ttraining's binary_logloss: 0.0585502\n",
      "[40]\ttraining's auc: 0.722033\ttraining's binary_logloss: 0.0600793\n",
      "[60]\ttraining's auc: 0.723341\ttraining's binary_logloss: 0.0616791\n",
      "[80]\ttraining's auc: 0.722908\ttraining's binary_logloss: 0.0700116\n",
      "[100]\ttraining's auc: 0.723468\ttraining's binary_logloss: 0.0705697\n",
      "[20]\ttraining's auc: 0.719576\ttraining's binary_logloss: 0.0585502\n",
      "[40]\ttraining's auc: 0.722033\ttraining's binary_logloss: 0.0600793\n",
      "[60]\ttraining's auc: 0.723341\ttraining's binary_logloss: 0.0616791\n",
      "[80]\ttraining's auc: 0.722908\ttraining's binary_logloss: 0.0700116\n",
      "[100]\ttraining's auc: 0.723468\ttraining's binary_logloss: 0.0705697\n",
      "[20]\ttraining's auc: 0.697152\ttraining's binary_logloss: 0.0517046\n",
      "[40]\ttraining's auc: 0.708215\ttraining's binary_logloss: 0.0512953\n",
      "[60]\ttraining's auc: 0.713024\ttraining's binary_logloss: 0.0511218\n",
      "[80]\ttraining's auc: 0.71636\ttraining's binary_logloss: 0.0510112\n",
      "[100]\ttraining's auc: 0.718327\ttraining's binary_logloss: 0.0509354\n",
      "[20]\ttraining's auc: 0.725087\ttraining's binary_logloss: 0.0507818\n",
      "[40]\ttraining's auc: 0.739818\ttraining's binary_logloss: 0.0502907\n",
      "[60]\ttraining's auc: 0.749631\ttraining's binary_logloss: 0.0498436\n"
     ]
    },
    {
     "name": "stdout",
     "output_type": "stream",
     "text": [
      "[80]\ttraining's auc: 0.757629\ttraining's binary_logloss: 0.0497706\n",
      "[100]\ttraining's auc: 0.763737\ttraining's binary_logloss: 0.0495679\n",
      "[20]\ttraining's auc: 0.722086\ttraining's binary_logloss: 0.0589822\n",
      "[40]\ttraining's auc: 0.724212\ttraining's binary_logloss: 0.0636796\n",
      "[60]\ttraining's auc: 0.724258\ttraining's binary_logloss: 0.063975\n",
      "[80]\ttraining's auc: 0.722742\ttraining's binary_logloss: 0.0686566\n",
      "[100]\ttraining's auc: 0.718204\ttraining's binary_logloss: 0.0710543\n",
      "[20]\ttraining's auc: 0.722086\ttraining's binary_logloss: 0.0589822\n",
      "[40]\ttraining's auc: 0.724212\ttraining's binary_logloss: 0.0636796\n",
      "[60]\ttraining's auc: 0.724258\ttraining's binary_logloss: 0.063975\n",
      "[80]\ttraining's auc: 0.722742\ttraining's binary_logloss: 0.0686566\n",
      "[100]\ttraining's auc: 0.718204\ttraining's binary_logloss: 0.0710543\n",
      "[20]\ttraining's auc: 0.722086\ttraining's binary_logloss: 0.0589822\n",
      "[40]\ttraining's auc: 0.724212\ttraining's binary_logloss: 0.0636796\n",
      "[60]\ttraining's auc: 0.724258\ttraining's binary_logloss: 0.063975\n",
      "[80]\ttraining's auc: 0.722742\ttraining's binary_logloss: 0.0686566\n",
      "[100]\ttraining's auc: 0.718204\ttraining's binary_logloss: 0.0710543\n",
      "[20]\ttraining's auc: 0.699011\ttraining's binary_logloss: 0.051587\n",
      "[40]\ttraining's auc: 0.709146\ttraining's binary_logloss: 0.0512305\n",
      "[60]\ttraining's auc: 0.714297\ttraining's binary_logloss: 0.0510666\n",
      "[80]\ttraining's auc: 0.717319\ttraining's binary_logloss: 0.0509611\n",
      "[100]\ttraining's auc: 0.719644\ttraining's binary_logloss: 0.0508873\n",
      "[20]\ttraining's auc: 0.729646\ttraining's binary_logloss: 0.0507312\n",
      "[40]\ttraining's auc: 0.744278\ttraining's binary_logloss: 0.050291\n",
      "[60]\ttraining's auc: 0.752052\ttraining's binary_logloss: 0.0499236\n",
      "[80]\ttraining's auc: 0.754653\ttraining's binary_logloss: 0.0502037\n",
      "[100]\ttraining's auc: 0.760991\ttraining's binary_logloss: 0.0499739\n",
      "[20]\ttraining's auc: 0.706584\ttraining's binary_logloss: 0.0647666\n",
      "[40]\ttraining's auc: 0.708323\ttraining's binary_logloss: 0.067304\n",
      "[60]\ttraining's auc: 0.70945\ttraining's binary_logloss: 0.066732\n",
      "[80]\ttraining's auc: 0.710068\ttraining's binary_logloss: 0.0686931\n",
      "[100]\ttraining's auc: 0.708471\ttraining's binary_logloss: 0.0692366\n",
      "[20]\ttraining's auc: 0.706584\ttraining's binary_logloss: 0.0647666\n",
      "[40]\ttraining's auc: 0.708323\ttraining's binary_logloss: 0.067304\n",
      "[60]\ttraining's auc: 0.70945\ttraining's binary_logloss: 0.066732\n",
      "[80]\ttraining's auc: 0.710068\ttraining's binary_logloss: 0.0686931\n",
      "[100]\ttraining's auc: 0.708471\ttraining's binary_logloss: 0.0692366\n",
      "[20]\ttraining's auc: 0.706584\ttraining's binary_logloss: 0.0647666\n",
      "[40]\ttraining's auc: 0.708323\ttraining's binary_logloss: 0.067304\n",
      "[60]\ttraining's auc: 0.70945\ttraining's binary_logloss: 0.066732\n",
      "[80]\ttraining's auc: 0.710068\ttraining's binary_logloss: 0.0686931\n",
      "[100]\ttraining's auc: 0.708471\ttraining's binary_logloss: 0.0692366\n",
      "[20]\ttraining's auc: 0.700481\ttraining's binary_logloss: 0.0515172\n",
      "[40]\ttraining's auc: 0.71041\ttraining's binary_logloss: 0.0511854\n",
      "[60]\ttraining's auc: 0.715511\ttraining's binary_logloss: 0.0510335\n",
      "[80]\ttraining's auc: 0.719138\ttraining's binary_logloss: 0.0509207\n",
      "[100]\ttraining's auc: 0.721103\ttraining's binary_logloss: 0.0508435\n",
      "[20]\ttraining's auc: 0.725015\ttraining's binary_logloss: 0.0510933\n",
      "[40]\ttraining's auc: 0.734885\ttraining's binary_logloss: 0.0514773\n",
      "[60]\ttraining's auc: 0.743158\ttraining's binary_logloss: 0.0511065\n",
      "[80]\ttraining's auc: 0.747826\ttraining's binary_logloss: 0.0511413\n",
      "[100]\ttraining's auc: 0.74894\ttraining's binary_logloss: 0.0616156\n",
      "[20]\ttraining's auc: 0.702417\ttraining's binary_logloss: 0.0683747\n",
      "[40]\ttraining's auc: 0.701779\ttraining's binary_logloss: 0.0676455\n",
      "[60]\ttraining's auc: 0.701085\ttraining's binary_logloss: 0.0734239\n",
      "[80]\ttraining's auc: 0.701603\ttraining's binary_logloss: 0.0692477\n",
      "[100]\ttraining's auc: 0.700106\ttraining's binary_logloss: 0.07557\n",
      "[20]\ttraining's auc: 0.702417\ttraining's binary_logloss: 0.0683747\n",
      "[40]\ttraining's auc: 0.701779\ttraining's binary_logloss: 0.0676455\n",
      "[60]\ttraining's auc: 0.701085\ttraining's binary_logloss: 0.0734239\n",
      "[80]\ttraining's auc: 0.701603\ttraining's binary_logloss: 0.0692477\n",
      "[100]\ttraining's auc: 0.701596\ttraining's binary_logloss: 0.0836344\n",
      "[20]\ttraining's auc: 0.702417\ttraining's binary_logloss: 0.0683747\n",
      "[40]\ttraining's auc: 0.701779\ttraining's binary_logloss: 0.0676455\n",
      "[60]\ttraining's auc: 0.701085\ttraining's binary_logloss: 0.0734239\n",
      "[80]\ttraining's auc: 0.701603\ttraining's binary_logloss: 0.0692477\n",
      "[100]\ttraining's auc: 0.701596\ttraining's binary_logloss: 0.0836344\n",
      "[20]\ttraining's auc: 0.700001\ttraining's binary_logloss: 0.0515124\n",
      "[40]\ttraining's auc: 0.709732\ttraining's binary_logloss: 0.0512033\n",
      "[60]\ttraining's auc: 0.715341\ttraining's binary_logloss: 0.0510418\n",
      "[80]\ttraining's auc: 0.71919\ttraining's binary_logloss: 0.0509159\n",
      "[100]\ttraining's auc: 0.721367\ttraining's binary_logloss: 0.050828\n",
      "[20]\ttraining's auc: 0.721394\ttraining's binary_logloss: 0.0510833\n",
      "[40]\ttraining's auc: 0.735218\ttraining's binary_logloss: 0.0507145\n",
      "[60]\ttraining's auc: 0.742013\ttraining's binary_logloss: 0.0509335\n",
      "[80]\ttraining's auc: 0.749465\ttraining's binary_logloss: 0.0505268\n",
      "[100]\ttraining's auc: 0.754929\ttraining's binary_logloss: 0.0505549\n",
      "time: 6min 3s (started: 2022-05-08 17:06:31 +04:00)\n"
     ]
    }
   ],
   "source": [
    "# Running nested for loops to put values in the parameters of LightGBM, run the model, save the train and test scores. \n",
    "\n",
    "results = []\n",
    "for i in np.arange (0.1, 0.9,0.1):\n",
    "    for j in range(-5,5, 2):\n",
    "        model = lgb.LGBMClassifier(learning_rate=i, max_depth=j, random_state=42)\n",
    "        model.fit(x_train, y_train, eval_set=[(x_train, y_train)], eval_metric='AUC', verbose=20)\n",
    "        \n",
    "        compare_results_lgbm['learning_rate'].append(i)\n",
    "        compare_results_lgbm['max_depth'].append(j)\n",
    "\n",
    "        Y0_lgbm=model.predict_proba(x_train)[:,1]\n",
    "        Y1_lgbm=model.predict_proba(x_test)[:,1]\n",
    "        \n",
    "        compare_results_lgbm['score_train'].append(roc_auc_score(y_train, Y0_lgbm))\n",
    "        compare_results_lgbm['score_test'].append(roc_auc_score(y_test, Y1_lgbm))"
   ]
  },
  {
   "cell_type": "code",
   "execution_count": 6,
   "id": "0ef03160",
   "metadata": {},
   "outputs": [
    {
     "data": {
      "text/html": [
       "<div>\n",
       "<style scoped>\n",
       "    .dataframe tbody tr th:only-of-type {\n",
       "        vertical-align: middle;\n",
       "    }\n",
       "\n",
       "    .dataframe tbody tr th {\n",
       "        vertical-align: top;\n",
       "    }\n",
       "\n",
       "    .dataframe thead th {\n",
       "        text-align: right;\n",
       "    }\n",
       "</style>\n",
       "<table border=\"1\" class=\"dataframe\">\n",
       "  <thead>\n",
       "    <tr style=\"text-align: right;\">\n",
       "      <th></th>\n",
       "      <th>learning_rate</th>\n",
       "      <th>max_depth</th>\n",
       "      <th>score_train</th>\n",
       "      <th>score_test</th>\n",
       "    </tr>\n",
       "  </thead>\n",
       "  <tbody>\n",
       "    <tr>\n",
       "      <th>4</th>\n",
       "      <td>0.1</td>\n",
       "      <td>3</td>\n",
       "      <td>0.740066</td>\n",
       "      <td>0.716525</td>\n",
       "    </tr>\n",
       "  </tbody>\n",
       "</table>\n",
       "</div>"
      ],
      "text/plain": [
       "   learning_rate  max_depth  score_train  score_test\n",
       "4            0.1          3     0.740066    0.716525"
      ]
     },
     "execution_count": 6,
     "metadata": {},
     "output_type": "execute_result"
    },
    {
     "name": "stdout",
     "output_type": "stream",
     "text": [
      "time: 28.6 ms (started: 2022-05-08 17:12:35 +04:00)\n"
     ]
    }
   ],
   "source": [
    "# Making dataframe from dictionary. Getting the best test score for LightGBM and corresponding parameters.\n",
    "\n",
    "compare_results_lgbm = pd.DataFrame.from_dict(compare_results_lgbm)\n",
    "compare_results_lgbm[compare_results_lgbm['score_test'] == max(compare_results_lgbm['score_test'])] #0.1 -1"
   ]
  },
  {
   "cell_type": "code",
   "execution_count": 7,
   "id": "f966f5b1",
   "metadata": {},
   "outputs": [
    {
     "name": "stdout",
     "output_type": "stream",
     "text": [
      "time: 225 µs (started: 2022-05-08 17:12:35 +04:00)\n"
     ]
    }
   ],
   "source": [
    "# In this dictionary the results of XGBoost will be added, then dataframe will be made based on this\n",
    "\n",
    "compare_results_xgb = {'learning_rate':[], 'max_depth':[], 'score_train':[], 'score_test': []}"
   ]
  },
  {
   "cell_type": "code",
   "execution_count": 8,
   "id": "10028787",
   "metadata": {
    "scrolled": true
   },
   "outputs": [
    {
     "name": "stdout",
     "output_type": "stream",
     "text": [
      "learning rate:  0.1  max_depth:  1\n",
      "[0]\tvalidation_0-auc:0.59582\n",
      "[20]\tvalidation_0-auc:0.59582\n",
      "[40]\tvalidation_0-auc:0.64965\n",
      "[60]\tvalidation_0-auc:0.67234\n",
      "[80]\tvalidation_0-auc:0.68408\n",
      "[99]\tvalidation_0-auc:0.69082\n",
      "learning rate:  0.1  max_depth:  5\n",
      "[0]\tvalidation_0-auc:0.63141\n",
      "[20]\tvalidation_0-auc:0.69508\n",
      "[40]\tvalidation_0-auc:0.71745\n",
      "[60]\tvalidation_0-auc:0.74885\n",
      "[80]\tvalidation_0-auc:0.77041\n",
      "[99]\tvalidation_0-auc:0.78294\n",
      "learning rate:  0.1  max_depth:  9\n",
      "[0]\tvalidation_0-auc:0.63406\n",
      "[20]\tvalidation_0-auc:0.73561\n",
      "[40]\tvalidation_0-auc:0.83990\n",
      "[60]\tvalidation_0-auc:0.90673\n",
      "[80]\tvalidation_0-auc:0.92877\n",
      "[99]\tvalidation_0-auc:0.93888\n",
      "learning rate:  0.30000000000000004  max_depth:  1\n",
      "[0]\tvalidation_0-auc:0.59582\n",
      "[20]\tvalidation_0-auc:0.67159\n",
      "[40]\tvalidation_0-auc:0.69687\n",
      "[60]\tvalidation_0-auc:0.70647\n",
      "[80]\tvalidation_0-auc:0.71069\n",
      "[99]\tvalidation_0-auc:0.71380\n",
      "learning rate:  0.30000000000000004  max_depth:  5\n",
      "[0]\tvalidation_0-auc:0.63141\n",
      "[20]\tvalidation_0-auc:0.74348\n",
      "[40]\tvalidation_0-auc:0.78697\n",
      "[60]\tvalidation_0-auc:0.81095\n",
      "[80]\tvalidation_0-auc:0.83203\n",
      "[99]\tvalidation_0-auc:0.84581\n",
      "learning rate:  0.30000000000000004  max_depth:  9\n",
      "[0]\tvalidation_0-auc:0.63406\n",
      "[20]\tvalidation_0-auc:0.89428\n",
      "[40]\tvalidation_0-auc:0.93811\n",
      "[60]\tvalidation_0-auc:0.96371\n",
      "[80]\tvalidation_0-auc:0.98039\n",
      "[99]\tvalidation_0-auc:0.98952\n",
      "learning rate:  0.5000000000000001  max_depth:  1\n",
      "[0]\tvalidation_0-auc:0.59582\n",
      "[20]\tvalidation_0-auc:0.69058\n",
      "[40]\tvalidation_0-auc:0.70620\n",
      "[60]\tvalidation_0-auc:0.71260\n",
      "[80]\tvalidation_0-auc:0.71646\n",
      "[99]\tvalidation_0-auc:0.71923\n",
      "learning rate:  0.5000000000000001  max_depth:  5\n",
      "[0]\tvalidation_0-auc:0.63141\n",
      "[20]\tvalidation_0-auc:0.77138\n",
      "[40]\tvalidation_0-auc:0.80541\n",
      "[60]\tvalidation_0-auc:0.83349\n",
      "[80]\tvalidation_0-auc:0.85447\n",
      "[99]\tvalidation_0-auc:0.87407\n",
      "learning rate:  0.5000000000000001  max_depth:  9\n",
      "[0]\tvalidation_0-auc:0.63406\n",
      "[20]\tvalidation_0-auc:0.91438\n",
      "[40]\tvalidation_0-auc:0.95787\n",
      "[60]\tvalidation_0-auc:0.98169\n",
      "[80]\tvalidation_0-auc:0.99457\n",
      "[99]\tvalidation_0-auc:0.99853\n",
      "learning rate:  0.7000000000000001  max_depth:  1\n",
      "[0]\tvalidation_0-auc:0.59582\n",
      "[20]\tvalidation_0-auc:0.69625\n",
      "[40]\tvalidation_0-auc:0.70869\n",
      "[60]\tvalidation_0-auc:0.71482\n",
      "[80]\tvalidation_0-auc:0.71887\n",
      "[99]\tvalidation_0-auc:0.72115\n",
      "learning rate:  0.7000000000000001  max_depth:  5\n",
      "[0]\tvalidation_0-auc:0.63141\n",
      "[20]\tvalidation_0-auc:0.77932\n",
      "[40]\tvalidation_0-auc:0.81384\n",
      "[60]\tvalidation_0-auc:0.84252\n",
      "[80]\tvalidation_0-auc:0.86320\n",
      "[99]\tvalidation_0-auc:0.88549\n",
      "learning rate:  0.7000000000000001  max_depth:  9\n",
      "[0]\tvalidation_0-auc:0.63406\n",
      "[20]\tvalidation_0-auc:0.92198\n",
      "[40]\tvalidation_0-auc:0.96816\n",
      "[60]\tvalidation_0-auc:0.99125\n",
      "[80]\tvalidation_0-auc:0.99930\n",
      "[99]\tvalidation_0-auc:0.99996\n",
      "time: 16min 17s (started: 2022-05-08 17:12:35 +04:00)\n"
     ]
    }
   ],
   "source": [
    "# Running nested for loops to put values in the parameters of XGBoost, run the model, save the train and test scores. \n",
    "\n",
    "results = []\n",
    "for i in np.arange (0.1, 0.9,0.2):\n",
    "    for j in range(1,10, 4):\n",
    "        print('learning rate: ', i, \" max_depth: \", j)\n",
    "        model = XGBClassifier(learning_rate=i, max_depth=j, random_state=42)\n",
    "        model.fit(x_train, y_train, eval_set=[(x_train, y_train)], eval_metric='auc', verbose=20) \n",
    "        \n",
    "        compare_results_xgb['learning_rate'].append(i)\n",
    "        compare_results_xgb['max_depth'].append(j)\n",
    "        \n",
    "        \n",
    "        Y0_xgb=model.predict_proba(x_train)[:,1]\n",
    "        Y1_xgb=model.predict_proba(x_test)[:,1]\n",
    "        \n",
    "        compare_results_xgb['score_train'].append(roc_auc_score(y_train, Y0_xgb))\n",
    "        compare_results_xgb['score_test'].append(roc_auc_score(y_test, Y1_xgb))"
   ]
  },
  {
   "cell_type": "code",
   "execution_count": 9,
   "id": "ca734fd2",
   "metadata": {},
   "outputs": [
    {
     "data": {
      "text/html": [
       "<div>\n",
       "<style scoped>\n",
       "    .dataframe tbody tr th:only-of-type {\n",
       "        vertical-align: middle;\n",
       "    }\n",
       "\n",
       "    .dataframe tbody tr th {\n",
       "        vertical-align: top;\n",
       "    }\n",
       "\n",
       "    .dataframe thead th {\n",
       "        text-align: right;\n",
       "    }\n",
       "</style>\n",
       "<table border=\"1\" class=\"dataframe\">\n",
       "  <thead>\n",
       "    <tr style=\"text-align: right;\">\n",
       "      <th></th>\n",
       "      <th>learning_rate</th>\n",
       "      <th>max_depth</th>\n",
       "      <th>score_train</th>\n",
       "      <th>score_test</th>\n",
       "    </tr>\n",
       "  </thead>\n",
       "  <tbody>\n",
       "    <tr>\n",
       "      <th>9</th>\n",
       "      <td>0.7</td>\n",
       "      <td>1</td>\n",
       "      <td>0.721153</td>\n",
       "      <td>0.715388</td>\n",
       "    </tr>\n",
       "  </tbody>\n",
       "</table>\n",
       "</div>"
      ],
      "text/plain": [
       "   learning_rate  max_depth  score_train  score_test\n",
       "9            0.7          1     0.721153    0.715388"
      ]
     },
     "execution_count": 9,
     "metadata": {},
     "output_type": "execute_result"
    },
    {
     "name": "stdout",
     "output_type": "stream",
     "text": [
      "time: 8.57 ms (started: 2022-05-08 17:28:53 +04:00)\n"
     ]
    }
   ],
   "source": [
    "# Making dataframe from dictionary. Getting the best test score for XGBoost and corresponding parameters.\n",
    "\n",
    "compare_results_xgb = pd.DataFrame.from_dict(compare_results_xgb)\n",
    "compare_results_xgb[compare_results_xgb['score_test'] == max(compare_results_xgb['score_test'])] #0.2 -1"
   ]
  },
  {
   "cell_type": "code",
   "execution_count": 10,
   "id": "286d7d8b",
   "metadata": {},
   "outputs": [
    {
     "name": "stdout",
     "output_type": "stream",
     "text": [
      "ROC_AUC Train: 0.5477270801925344\n",
      "ROC_AUC Test: 0.5494109220982586\n",
      "time: 9.88 s (started: 2022-05-08 17:28:53 +04:00)\n"
     ]
    }
   ],
   "source": [
    "# Running Logistic Regression without regularization \n",
    "\n",
    "logreg = LogisticRegression(random_state=42)\n",
    "\n",
    "logreg.fit(x_train,y_train)\n",
    "\n",
    "Y0_logreg=logreg.predict_proba(x_train)[:,1]\n",
    "Y1_logreg=logreg.predict_proba(x_test)[:,1]\n",
    "\n",
    "print(\"ROC_AUC Train:\", roc_auc_score (y_train, Y0_logreg))\n",
    "print (\"ROC_AUC Test:\", roc_auc_score(y_test, Y1_logreg))"
   ]
  },
  {
   "cell_type": "code",
   "execution_count": 11,
   "id": "01ac2ce5",
   "metadata": {},
   "outputs": [
    {
     "name": "stdout",
     "output_type": "stream",
     "text": [
      "ROC_AUC Train: 0.7041530313159494\n",
      "ROC_AUC Test: 0.7078894038471863\n",
      "time: 30.8 s (started: 2022-05-08 17:29:03 +04:00)\n"
     ]
    }
   ],
   "source": [
    "# Running Logistic Regression with regularization. Better results than without regularization\n",
    "\n",
    "logreg=LogisticRegression(C=1,penalty='l1',solver=\"liblinear\", random_state=42)\n",
    "\n",
    "logreg.fit(x_train,y_train)\n",
    "\n",
    "Y0_logreg=logreg.predict_proba(x_train)[:,1]\n",
    "Y1_logreg=logreg.predict_proba(x_test)[:,1]\n",
    "\n",
    "print(\"ROC_AUC Train:\", roc_auc_score (y_train, Y0_logreg))\n",
    "print (\"ROC_AUC Test:\", roc_auc_score(y_test, Y1_logreg))"
   ]
  }
 ],
 "metadata": {
  "kernelspec": {
   "display_name": "Python 3",
   "language": "python",
   "name": "python3"
  },
  "language_info": {
   "codemirror_mode": {
    "name": "ipython",
    "version": 3
   },
   "file_extension": ".py",
   "mimetype": "text/x-python",
   "name": "python",
   "nbconvert_exporter": "python",
   "pygments_lexer": "ipython3",
   "version": "3.8.8"
  }
 },
 "nbformat": 4,
 "nbformat_minor": 5
}

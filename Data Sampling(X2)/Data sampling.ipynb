{
 "cells": [
  {
   "cell_type": "code",
   "execution_count": 1,
   "id": "7f8c0e67",
   "metadata": {},
   "outputs": [
    {
     "name": "stdout",
     "output_type": "stream",
     "text": [
      "time: 173 µs (started: 2022-05-08 01:19:56 +04:00)\n"
     ]
    }
   ],
   "source": [
    "import pandas as pd\n",
    "%load_ext autotime"
   ]
  },
  {
   "cell_type": "code",
   "execution_count": 2,
   "id": "9daeb8f6",
   "metadata": {},
   "outputs": [
    {
     "name": "stdout",
     "output_type": "stream",
     "text": [
      "time: 30.7 s (started: 2022-05-08 01:19:56 +04:00)\n"
     ]
    }
   ],
   "source": [
    "filepath = \"../Data/TrainImpVars.csv\"\n",
    "train_data = pd.read_csv(filepath)\n",
    "\n",
    "filepath = \"../Data/TestImpVars.csv\"\n",
    "test_data = pd.read_csv(filepath)"
   ]
  },
  {
   "cell_type": "code",
   "execution_count": 3,
   "id": "81942da1",
   "metadata": {},
   "outputs": [
    {
     "name": "stdout",
     "output_type": "stream",
     "text": [
      "time: 3.56 s (started: 2022-05-08 01:20:27 +04:00)\n"
     ]
    }
   ],
   "source": [
    "# Seperating datasets for train/test where \"Lead Flag\" is 0.\n",
    "\n",
    "train_data_lead_flag_0 = train_data.loc[(train_data['Lead Flag']==0)]\n",
    "\n",
    "test_data_lead_flag_0 = test_data.loc[(test_data['Lead Flag']==0)]"
   ]
  },
  {
   "cell_type": "code",
   "execution_count": 4,
   "id": "29c1d5ec",
   "metadata": {},
   "outputs": [
    {
     "name": "stdout",
     "output_type": "stream",
     "text": [
      "time: 1.86 s (started: 2022-05-08 01:20:31 +04:00)\n"
     ]
    }
   ],
   "source": [
    "# Seperating datasets for train/test where \"Lead Flag\" is 1.\n",
    "\n",
    "train_data_lead_flag_1 = train_data.loc[(train_data['Lead Flag']==1)]\n",
    "\n",
    "test_data_lead_flag_1 = test_data.loc[(test_data['Lead Flag']==1)]"
   ]
  },
  {
   "cell_type": "code",
   "execution_count": 5,
   "id": "b2d1e119",
   "metadata": {},
   "outputs": [
    {
     "name": "stdout",
     "output_type": "stream",
     "text": [
      "time: 1.78 s (started: 2022-05-08 01:20:33 +04:00)\n"
     ]
    }
   ],
   "source": [
    "# Getting number of rows equal to 10% of the data for \"Lead Flag\"=0.\n",
    "\n",
    "train_lead_flag_1 = round(train_data.loc[(train_data['Lead Flag']==1)].shape[0] * 0.1)\n",
    "\n",
    "test_lead_flag_1 = round(test_data.loc[(test_data['Lead Flag']==1)].shape[0] * 0.1)"
   ]
  },
  {
   "cell_type": "code",
   "execution_count": 6,
   "id": "e352602f",
   "metadata": {},
   "outputs": [
    {
     "name": "stdout",
     "output_type": "stream",
     "text": [
      "time: 3.4 s (started: 2022-05-08 01:20:34 +04:00)\n"
     ]
    }
   ],
   "source": [
    "# Getting number of rows equal to 10% of the data for \"Lead Flag\"=1.\n",
    "\n",
    "train_lead_flag_0 = round(train_data.loc[(train_data['Lead Flag']==0)].shape[0] * 0.1)\n",
    "\n",
    "test_lead_flag_0 = round(test_data.loc[(test_data['Lead Flag']==0)].shape[0] * 0.1)"
   ]
  },
  {
   "cell_type": "code",
   "execution_count": 7,
   "id": "c3332bb7",
   "metadata": {},
   "outputs": [
    {
     "name": "stdout",
     "output_type": "stream",
     "text": [
      "time: 2.25 s (started: 2022-05-08 01:20:38 +04:00)\n"
     ]
    }
   ],
   "source": [
    "# Sampling the train/test datasets where \"Lead Flag\"=0.\n",
    "\n",
    "train_data_lead_flag_0 = train_data_lead_flag_0.sample(n=train_lead_flag_0, random_state=42)\n",
    "\n",
    "test_data_lead_flag_0 = test_data_lead_flag_0.sample(n=test_lead_flag_0, random_state=42)"
   ]
  },
  {
   "cell_type": "code",
   "execution_count": 8,
   "id": "bf8b4d87",
   "metadata": {},
   "outputs": [
    {
     "name": "stdout",
     "output_type": "stream",
     "text": [
      "time: 15.2 ms (started: 2022-05-08 01:20:40 +04:00)\n"
     ]
    }
   ],
   "source": [
    "# Sampling the train/test datasets where \"Lead Flag\"=1.\n",
    "\n",
    "train_data_lead_flag_1 = train_data_lead_flag_1.sample(n=train_lead_flag_1, random_state=42)\n",
    "\n",
    "test_data_lead_flag_1 = test_data_lead_flag_1.sample(n=test_lead_flag_1, random_state=42)"
   ]
  },
  {
   "cell_type": "code",
   "execution_count": 9,
   "id": "1ef1b28c",
   "metadata": {},
   "outputs": [
    {
     "name": "stdout",
     "output_type": "stream",
     "text": [
      "time: 237 ms (started: 2022-05-08 01:20:40 +04:00)\n"
     ]
    }
   ],
   "source": [
    "# Concatinating train/test datasets where \"Lead Flag\"=1 and \"Lead Flag\"=0.\n",
    "\n",
    "train_data_sample = pd.concat([train_data_lead_flag_0, train_data_lead_flag_1])\n",
    "\n",
    "test_data_sample = pd.concat([test_data_lead_flag_0, test_data_lead_flag_1])"
   ]
  },
  {
   "cell_type": "code",
   "execution_count": 10,
   "id": "2f610488",
   "metadata": {},
   "outputs": [
    {
     "name": "stdout",
     "output_type": "stream",
     "text": [
      "time: 275 ms (started: 2022-05-08 01:20:40 +04:00)\n"
     ]
    }
   ],
   "source": [
    "# Checking for the percentages of 0s and 1s of \"Lead Flag\" from each dataset to sum up to 100.\n",
    "\n",
    "train_data_sample_lead_flag_0_perc = train_data_sample.loc[(train_data_sample['Lead Flag']==0)].shape[0] / train_data_sample.shape[0] * 100\n",
    "\n",
    "test_data_sample_lead_flag_0_perc = test_data_sample.loc[(test_data_sample['Lead Flag']==0)].shape[0] / test_data_sample.shape[0] * 100\n",
    "\n",
    "\n",
    "train_data_sample_lead_flag_1_perc = train_data_sample.loc[(train_data_sample['Lead Flag']==1)].shape[0] / train_data_sample.shape[0] * 100\n",
    "\n",
    "test_data_sample_lead_flag_1_perc = test_data_sample.loc[(test_data_sample['Lead Flag']==1)].shape[0] / test_data_sample.shape[0] * 100"
   ]
  },
  {
   "cell_type": "code",
   "execution_count": 11,
   "id": "2a595234",
   "metadata": {},
   "outputs": [
    {
     "name": "stdout",
     "output_type": "stream",
     "text": [
      "Train:  100.0\n",
      "Test:  100.0\n",
      "time: 273 µs (started: 2022-05-08 01:20:41 +04:00)\n"
     ]
    }
   ],
   "source": [
    "print(\"Train: \", train_data_sample_lead_flag_0_perc + train_data_sample_lead_flag_1_perc)\n",
    "print(\"Test: \", test_data_sample_lead_flag_0_perc + test_data_sample_lead_flag_1_perc)"
   ]
  },
  {
   "cell_type": "code",
   "execution_count": 12,
   "id": "d6b0291c",
   "metadata": {},
   "outputs": [
    {
     "name": "stdout",
     "output_type": "stream",
     "text": [
      "time: 24.1 s (started: 2022-05-08 01:20:41 +04:00)\n"
     ]
    }
   ],
   "source": [
    "# Saving sample for train dataset.\n",
    "\n",
    "train_data_sample.to_csv('../Data/TrainDataSample.csv', index=False)"
   ]
  },
  {
   "cell_type": "code",
   "execution_count": 13,
   "id": "d84b737c",
   "metadata": {},
   "outputs": [
    {
     "name": "stdout",
     "output_type": "stream",
     "text": [
      "time: 11.7 s (started: 2022-05-08 01:21:05 +04:00)\n"
     ]
    }
   ],
   "source": [
    "# Saving sample for test dataset.\n",
    "\n",
    "test_data_sample.to_csv('../Data/TestDataSample.csv', index=False)"
   ]
  }
 ],
 "metadata": {
  "kernelspec": {
   "display_name": "Python 3",
   "language": "python",
   "name": "python3"
  },
  "language_info": {
   "codemirror_mode": {
    "name": "ipython",
    "version": 3
   },
   "file_extension": ".py",
   "mimetype": "text/x-python",
   "name": "python",
   "nbconvert_exporter": "python",
   "pygments_lexer": "ipython3",
   "version": "3.8.8"
  }
 },
 "nbformat": 4,
 "nbformat_minor": 5
}
